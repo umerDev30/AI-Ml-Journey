{
 "cells": [
  {
   "cell_type": "markdown",
   "id": "6cade624",
   "metadata": {},
   "source": [
    "# Module 3: Data Structures Assignments\n",
    "## Lesson 3.2: Tuples\n",
    "### Assignment 1: Creating and Accessing Tuples\n",
    "\n",
    "Create a tuple with the first 10 positive integers. Print the tuple.\n",
    "\n",
    "### Assignment 2: Accessing Tuple Elements\n",
    "\n",
    "Print the first, middle, and last elements of the tuple created in Assignment 1.\n",
    "\n",
    "### Assignment 3: Tuple Slicing\n",
    "\n",
    "Print the first three elements, the last three elements, and the elements from index 2 to 5 of the tuple created in Assignment 1.\n",
    "\n",
    "### Assignment 4: Nested Tuples\n",
    "\n",
    "Create a nested tuple representing a 3x3 matrix and print the matrix. Access and print the element at the second row and third column.\n",
    "\n",
    "### Assignment 5: Tuple Concatenation\n",
    "\n",
    "Concatenate two tuples: (1, 2, 3) and (4, 5, 6). Print the resulting tuple.\n",
    "\n",
    "### Assignment 6: Tuple Methods\n",
    "\n",
    "Create a tuple with duplicate elements and count the occurrences of an element. Find the index of the first occurrence of an element in the tuple.\n",
    "\n",
    "### Assignment 7: Unpacking Tuples\n",
    "\n",
    "Create a tuple with 5 elements and unpack it into 5 variables. Print the variables.\n",
    "\n",
    "### Assignment 8: Tuple Conversion\n",
    "\n",
    "Convert a list of the first 5 positive integers to a tuple. Print the tuple.\n",
    "\n",
    "### Assignment 9: Tuple of Tuples\n",
    "\n",
    "Create a tuple containing 3 tuples, each with 3 elements. Print the tuple of tuples.\n",
    "\n",
    "### Assignment 10: Tuple and List\n",
    "\n",
    "Create a tuple with the first 5 positive integers. Convert it to a list, append the number 6, and convert it back to a tuple. Print the resulting tuple.\n",
    "\n",
    "### Assignment 11: Tuple and String\n",
    "\n",
    "Create a tuple with the characters of a string. Join the tuple elements into a single string. Print the string.\n",
    "\n",
    "### Assignment 12: Tuple and Dictionary\n",
    "\n",
    "Create a dictionary with tuple keys and integer values. Print the dictionary.\n",
    "\n",
    "### Assignment 13: Nested Tuple Iteration\n",
    "\n",
    "Create a nested tuple and iterate over the elements, printing each element.\n",
    "\n",
    "### Assignment 14: Tuple and Set\n",
    "\n",
    "Create a tuple with duplicate elements. Convert it to a set to remove duplicates and print the resulting set.\n",
    "\n",
    "### Assignment 15: Tuple Functions\n",
    "\n",
    "Write functions that take a tuple and return the minimum, maximum, and sum of the elements. Print the results for a sample tuple."
   ]
  },
  {
   "cell_type": "code",
   "execution_count": 38,
   "id": "f9faf3b0",
   "metadata": {},
   "outputs": [
    {
     "name": "stdout",
     "output_type": "stream",
     "text": [
      "(1, 2, 3, 4, 5, 6, 7, 8, 9, 10)\n"
     ]
    }
   ],
   "source": [
    "# Q1\n",
    "tup = (1,2,3,4,5,6,7,8,9,10)\n",
    "print(tup)"
   ]
  },
  {
   "cell_type": "code",
   "execution_count": null,
   "id": "3063b661",
   "metadata": {},
   "outputs": [
    {
     "name": "stdout",
     "output_type": "stream",
     "text": [
      "1\n",
      "5\n",
      "10\n"
     ]
    }
   ],
   "source": [
    "# Q2\n",
    "tup = (1,2,3,4,5,6,7,8,9,10)\n",
    "print(tup[0])\n",
    "print(len(tup)//2)\n",
    "print(tup[-1])"
   ]
  },
  {
   "cell_type": "code",
   "execution_count": 13,
   "id": "6941814a",
   "metadata": {},
   "outputs": [
    {
     "name": "stdout",
     "output_type": "stream",
     "text": [
      "(1, 2, 3)\n",
      "(8, 9, 10)\n",
      "(3, 4, 5, 6, 7)\n",
      "(10, 9, 8, 7, 6, 5, 4, 3, 2, 1)\n"
     ]
    }
   ],
   "source": [
    "# Q3 \n",
    "tup = (1,2,3,4,5,6,7,8,9,10)\n",
    "print(tup[:3])\n",
    "print(tup[-3:])\n",
    "print(tup[2:-3])\n",
    "print(tup[::-1])"
   ]
  },
  {
   "cell_type": "code",
   "execution_count": 35,
   "id": "38dbb6b4",
   "metadata": {},
   "outputs": [
    {
     "name": "stdout",
     "output_type": "stream",
     "text": [
      "(1, 0, 0)\n",
      "(0, 1, 0)\n",
      "(0, 0, 1)\n",
      "The element at 2nd row and 3rd column is  0\n"
     ]
    }
   ],
   "source": [
    "# Q4\n",
    "matrix = ((1,0,0),(0,1,0),(0,0,1))\n",
    "for i in matrix:\n",
    "    print(i)\n",
    "print(\"The element at 2nd row and 3rd column is \",matrix[1][2])    "
   ]
  },
  {
   "cell_type": "code",
   "execution_count": 33,
   "id": "4a5b8e63",
   "metadata": {},
   "outputs": [
    {
     "name": "stdout",
     "output_type": "stream",
     "text": [
      "(1, 2, 3, 4, 5, 6)\n"
     ]
    }
   ],
   "source": [
    "# Q5\n",
    "tuple_1 = (1,2,3)\n",
    "tuple_2 = (4,5,6)\n",
    "concatenated_tuple = tuple_1 + tuple_2\n",
    "print(concatenated_tuple)\n"
   ]
  },
  {
   "cell_type": "code",
   "execution_count": null,
   "id": "7b9c7721",
   "metadata": {},
   "outputs": [
    {
     "name": "stdout",
     "output_type": "stream",
     "text": [
      "4 occurs 2 times.\n",
      "4 first occurs at index 3.\n",
      "===============\n",
      "1: counts = 2\n",
      "2: counts = 1\n",
      "3: counts = 1\n",
      "4: counts = 2\n",
      "5: counts = 2\n",
      "6: counts = 1\n",
      "7: counts = 1\n"
     ]
    }
   ],
   "source": [
    "# Q6\n",
    "count_element =  (1,2,3,4,5,4,5,6,7)\n",
    "element = 4\n",
    "print(f\"{element} occurs {count_element.count(element)} times.\")\n",
    "print(f\"{element} first occurs at index {count_element.index(element)}.\")\n",
    "\n",
    "print(\"===============\")\n",
    "\n",
    "# ex \n",
    "count_element =  (1,1,2,3,4,5,4,5,6,7)\n",
    "for i in set(count_element):\n",
    "    print(f\"{i}: counts = {count_element.count(i)}\")\n",
    "\n",
    "# Using set() removes duplicates from the loop,\n",
    "# so each element is visited only once.\n",
    "# But .count(i) looks at the original tuple,\n",
    "# so it still counts all duplicates inside it.\n",
    "# Example: 4 appears twice in the tuple → count = 2,\n",
    "# even though the loop sees 4 only once."
   ]
  },
  {
   "cell_type": "code",
   "execution_count": 22,
   "id": "42b261c3",
   "metadata": {},
   "outputs": [
    {
     "name": "stdout",
     "output_type": "stream",
     "text": [
      "1\n",
      "2\n",
      "3\n",
      "4\n",
      "5\n"
     ]
    }
   ],
   "source": [
    "# Q7\n",
    "packed_tuple = (1,2,3,4,5)\n",
    "a,b,c,d,e, = packed_tuple\n",
    "print(a)\n",
    "print(b)\n",
    "print(c)\n",
    "print(d)\n",
    "print(e)"
   ]
  },
  {
   "cell_type": "code",
   "execution_count": 17,
   "id": "75f31553",
   "metadata": {},
   "outputs": [
    {
     "name": "stdout",
     "output_type": "stream",
     "text": [
      "(1, 2, 3, 4, 5)\n"
     ]
    }
   ],
   "source": [
    "# Q 8\n",
    "lst = [1,2,3,4,5]\n",
    "lst_to_tuple = tuple(lst)\n",
    "print(lst_to_tuple)"
   ]
  },
  {
   "cell_type": "code",
   "execution_count": 16,
   "id": "47efccad",
   "metadata": {},
   "outputs": [
    {
     "name": "stdout",
     "output_type": "stream",
     "text": [
      "(('a', 'b', 'c'), ('d', 'e', 'f'), ('g', 'h', 'i'))\n"
     ]
    }
   ],
   "source": [
    "# Q9\n",
    "nested_tuple = ((\"a\",\"b\",\"c\"),(\"d\",\"e\",\"f\"),(\"g\",\"h\",\"i\"))\n",
    "print(nested_tuple)"
   ]
  },
  {
   "cell_type": "code",
   "execution_count": 15,
   "id": "8f20ce73",
   "metadata": {},
   "outputs": [
    {
     "name": "stdout",
     "output_type": "stream",
     "text": [
      "(1, 2, 3, 4, 5, 6)\n"
     ]
    }
   ],
   "source": [
    "# Q10\n",
    "int_tuple = (1,2,3,4,5)\n",
    "tuple_to_list = list(int_tuple)\n",
    "tuple_to_list.append(6)\n",
    "resulting_tuple = tuple(tuple_to_list)\n",
    "print(resulting_tuple)"
   ]
  },
  {
   "cell_type": "code",
   "execution_count": 14,
   "id": "82dfa733",
   "metadata": {},
   "outputs": [
    {
     "name": "stdout",
     "output_type": "stream",
     "text": [
      "Hello\n"
     ]
    }
   ],
   "source": [
    "# Q11\n",
    "char_tuple = (\"H\",\"e\",\"l\",\"l\",\"o\")\n",
    "string = \"\".join(char_tuple)\n",
    "print(string)"
   ]
  },
  {
   "cell_type": "code",
   "execution_count": null,
   "id": "119ffb7b",
   "metadata": {},
   "outputs": [
    {
     "name": "stdout",
     "output_type": "stream",
     "text": [
      "{'a': 1, 'b': 2}\n",
      "{('a', 'b'): 1, ('c', 'd'): 2, ('f', 'e'): 3}\n"
     ]
    }
   ],
   "source": [
    "# Q12\n",
    "dictionary = {(\"a\"):1,(\"b\"):2}\n",
    "print(dictionary)\n",
    "\n",
    "# creatimg dictionary dinamically\n",
    "dictionary_2 = {}\n",
    "dictionary_2[(\"a\",\"b\")] = 1\n",
    "dictionary_2[(\"c\",\"d\")] = 2\n",
    "dictionary_2[(\"f\",\"e\")] = 3\n",
    "print(dictionary_2)"
   ]
  },
  {
   "cell_type": "code",
   "execution_count": 9,
   "id": "dd2ac5c8",
   "metadata": {},
   "outputs": [
    {
     "name": "stdout",
     "output_type": "stream",
     "text": [
      "a b c d e f g h i j "
     ]
    }
   ],
   "source": [
    "# Q13\n",
    "\n",
    "nested_tuple = ((\"a\",\"b\",\"c\"),(\"d\",\"e\",\"f\"),(\"g\",\"h\",\"i\",\"j\"))\n",
    "for tuples in nested_tuple:\n",
    "    for item in tuples:\n",
    "        print(item,end=\" \")"
   ]
  },
  {
   "cell_type": "code",
   "execution_count": 8,
   "id": "a20fef7c",
   "metadata": {},
   "outputs": [
    {
     "name": "stdout",
     "output_type": "stream",
     "text": [
      "{'b', 'd', 'a', 'c'}\n"
     ]
    }
   ],
   "source": [
    "# Q14\n",
    "dupicate_elements = (\"a\",\"b\",\"c\",\"a\",\"d\")\n",
    "s = set(dupicate_elements)\n",
    "print(s)"
   ]
  },
  {
   "cell_type": "code",
   "execution_count": 4,
   "id": "e27edc55",
   "metadata": {},
   "outputs": [],
   "source": [
    "# What is an iterator?\n",
    "\n",
    "# An iterator is an object in Python that lets you go through elements one by one.\n",
    "\n",
    "# It remembers where it is so that when you ask for the “next” item, it gives you the next one, not the first again.\n",
    "\n",
    "# You create an iterator with the iter() function.\n",
    "# You get the next element with the next() function.\n",
    "\n",
    "# Example: list → iterator\n",
    "# nums = [3, 7, 1]\n",
    "# it = iter(nums)   # make an iterator from the list\n",
    "\n",
    "# print(next(it))   # 3\n",
    "# print(next(it))   # 7\n",
    "# print(next(it))   # 1\n",
    "# print(next(it))   # ERROR: no more elements"
   ]
  },
  {
   "cell_type": "code",
   "execution_count": null,
   "metadata": {},
   "outputs": [
    {
     "name": "stdout",
     "output_type": "stream",
     "text": [
      "min value 1\n",
      "max value 3\n",
      "sum 6\n"
     ]
    }
   ],
   "source": [
    "# Q15\n",
    "\n",
    "# Single pass algorithm\n",
    "\n",
    "def min_max(iterable):\n",
    "    it = iter(iterable)\n",
    "    try:\n",
    "        first = next(it)\n",
    "    except StopIteration:\n",
    "        raise ValueError(\"Empty Iterable\")\n",
    "\n",
    "    min_val = max_val = first\n",
    "    total = first\n",
    "    for num in it:\n",
    "        total = total + num\n",
    "        if num < min_val:\n",
    "            min_val = num\n",
    "        elif num > max_val:\n",
    "            max_val = num\n",
    "    return min_val,max_val,total       \n",
    "\n",
    "t = (1,2,3)\n",
    "a,b,c = min_max(t)\n",
    "print(\"min value\",a)\n",
    "print(\"max value\",b)\n",
    "print(\"sum\",c)        "
   ]
  }
 ],
 "metadata": {
  "kernelspec": {
   "display_name": "venv",
   "language": "python",
   "name": "python3"
  },
  "language_info": {
   "codemirror_mode": {
    "name": "ipython",
    "version": 3
   },
   "file_extension": ".py",
   "mimetype": "text/x-python",
   "name": "python",
   "nbconvert_exporter": "python",
   "pygments_lexer": "ipython3",
   "version": "3.12.11"
  }
 },
 "nbformat": 4,
 "nbformat_minor": 5
}
