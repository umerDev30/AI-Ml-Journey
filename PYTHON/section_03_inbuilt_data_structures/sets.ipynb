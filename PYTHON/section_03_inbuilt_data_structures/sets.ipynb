{
 "cells": [
  {
   "cell_type": "code",
   "execution_count": null,
   "id": "c347c9a3",
   "metadata": {},
   "outputs": [],
   "source": [
    "# Sets are collection data types that are unordered, mutable, and do not allow duplicate elements."
   ]
  },
  {
   "cell_type": "code",
   "execution_count": null,
   "id": "0566284d",
   "metadata": {},
   "outputs": [
    {
     "name": "stdout",
     "output_type": "stream",
     "text": [
      "{1, 2, 3, 4, 5}\n",
      "<class 'set'>\n"
     ]
    }
   ],
   "source": [
    "# example of creating a set\n",
    "first_set = {1, 2, 3, 4, 5}\n",
    "print(first_set)\n",
    "print(type(first_set))"
   ]
  },
  {
   "cell_type": "code",
   "execution_count": null,
   "id": "7e2328fb",
   "metadata": {},
   "outputs": [
    {
     "name": "stdout",
     "output_type": "stream",
     "text": [
      "{4, 5, 6, 7, 8}\n",
      "set()\n"
     ]
    }
   ],
   "source": [
    "# example 2\n",
    "second_set = set([4, 5, 6, 7, 8])\n",
    "print(second_set)\n",
    "empty_set = set()\n",
    "print(empty_set)"
   ]
  },
  {
   "cell_type": "code",
   "execution_count": 7,
   "id": "e1124e15",
   "metadata": {},
   "outputs": [
    {
     "name": "stdout",
     "output_type": "stream",
     "text": [
      "{1, 2, 3, 4, 5, 51}\n"
     ]
    }
   ],
   "source": [
    "# example 3\n",
    "third_set = {1, 2, 3, 4, 5, 4, 51, 2, 3}\n",
    "print(third_set)"
   ]
  },
  {
   "cell_type": "code",
   "execution_count": null,
   "id": "51afc11c",
   "metadata": {},
   "outputs": [
    {
     "name": "stdout",
     "output_type": "stream",
     "text": [
      "{1, 2, 3, 4, 5, 6, 7, 8}\n",
      "{4, 5}\n",
      "{1, 2, 3}\n",
      "{1, 2, 3, 6, 7, 8}\n",
      "False\n",
      "False\n",
      "False\n",
      "None\n"
     ]
    }
   ],
   "source": [
    "# Methods for Set Operations or math operations on sets\n",
    "# union, intersection, difference, symmetric_difference, issubset, issuperset, isdisjoint\n",
    "\n",
    "first_set = {1, 2, 3, 4, 5}\n",
    "second_set = {4, 5, 6, 7, 8}\n",
    "third_set = {1, 2, 3}  # Added since it was missing before\n",
    "\n",
    "# Union → all unique elements from both sets\n",
    "print(\"Union:\", first_set.union(second_set))\n",
    "\n",
    "# Intersection → common elements\n",
    "print(\"Intersection:\", first_set.intersection(second_set))\n",
    "\n",
    "# Difference → elements in first_set but not in second_set\n",
    "print(\"Difference:\", first_set.difference(second_set))\n",
    "\n",
    "# Symmetric Difference → elements not common in both sets\n",
    "print(\"Symmetric Difference:\", first_set.symmetric_difference(second_set))\n",
    "\n",
    "# Subset → True if all elements of first_set are in third_set\n",
    "print(\"Is Subset:\", first_set.issubset(third_set))\n",
    "\n",
    "# Superset → True if all elements of third_set are in first_set\n",
    "print(\"Is Superset:\", first_set.issuperset(third_set))\n",
    "\n",
    "# Disjoint → True if no elements are common\n",
    "print(\"Is Disjoint:\", first_set.isdisjoint(second_set))\n",
    "\n",
    "# Intersection Update → updates first_set with common elements\n",
    "# intersection_update() returns None — it modifies the set directly,\n",
    "# so you should print first_set after calling it.\n",
    "first_set.intersection_update(second_set)\n",
    "print(\"After Intersection Update:\", first_set)\n",
    "\n",
    "# similarly we have update, difference_update, symmetric_difference_update"
   ]
  },
  {
   "cell_type": "code",
   "execution_count": 24,
   "id": "c67b4498",
   "metadata": {},
   "outputs": [
    {
     "name": "stdout",
     "output_type": "stream",
     "text": [
      "{1, 2, 3, 4, 5, 6}\n",
      "{1, 2, 3, 4, 5}\n",
      "{1, 2, 3, 4, 5}\n",
      "The popped element is: 1\n",
      "first_set after pop: {2, 3, 4, 5}\n",
      "4\n",
      "first_set after clear: set()\n",
      "Shallow copy: {1, 2, 3}\n"
     ]
    }
   ],
   "source": [
    "# set methods\n",
    "first_set = {1, 2, 3, 4, 5}\n",
    "second_set = {4, 5, 6, 7, 8, }\n",
    "first_set.add(6)  # add element\n",
    "print(first_set)\n",
    "first_set.remove(6)  # remove element\n",
    "print(first_set)\n",
    "first_set.discard(10)  # discard element (no error if not found)\n",
    "print(first_set)    \n",
    "print(\"The popped element is:\",first_set.pop())  # remove and return an arbitrary element, an \"arbitrary\" element is one that is chosen by the program without a specified order or criteria.Raises a KeyError if the set is empty.\n",
    "print(\"first_set after pop:\", first_set)\n",
    "print(len(first_set))  # length of set\n",
    "first_set.clear()  # clear all elements\n",
    "print(\"first_set after clear:\", first_set)\n",
    "original_set = {1, 2, 3}\n",
    "copied_set = original_set.copy()\n",
    "print(\"Shallow copy:\",copied_set) # shallow copy is a copy of the original set that contains references to the same elements as the original set but is a separate object. Changes made to the copied set do not affect the original set and vice versa.\n"
   ]
  },
  {
   "cell_type": "code",
   "execution_count": null,
   "id": "b5e84daa",
   "metadata": {},
   "outputs": [
    {
     "name": "stdout",
     "output_type": "stream",
     "text": [
      "True\n",
      "True\n",
      "False\n",
      "True\n"
     ]
    }
   ],
   "source": [
    "# set membership test\n",
    "first_set = {1, 2, 3, 4, 5} \n",
    "print(1 in first_set)  # returns True when element is found\n",
    "print(7 not in first_set)  # returns True when element is not found\n",
    "print(6 in first_set)  # False\n",
    "print(6 not in first_set)  # True"
   ]
  }
 ],
 "metadata": {
  "kernelspec": {
   "display_name": "venv",
   "language": "python",
   "name": "python3"
  },
  "language_info": {
   "codemirror_mode": {
    "name": "ipython",
    "version": 3
   },
   "file_extension": ".py",
   "mimetype": "text/x-python",
   "name": "python",
   "nbconvert_exporter": "python",
   "pygments_lexer": "ipython3",
   "version": "3.12.11"
  }
 },
 "nbformat": 4,
 "nbformat_minor": 5
}
