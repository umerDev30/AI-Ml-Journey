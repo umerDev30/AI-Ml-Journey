{
 "cells": [
  {
   "cell_type": "code",
   "execution_count": null,
   "id": "148e4968",
   "metadata": {},
   "outputs": [],
   "source": [
    "# Tuples are ordered immutble collectio of items of any data type."
   ]
  },
  {
   "cell_type": "code",
   "execution_count": 2,
   "id": "c505cd89",
   "metadata": {},
   "outputs": [
    {
     "name": "stdout",
     "output_type": "stream",
     "text": [
      "()\n",
      "<class 'tuple'>\n"
     ]
    }
   ],
   "source": [
    "empty_tuple = tuple()\n",
    "print(empty_tuple)\n",
    "t = type(empty_tuple)\n",
    "print(t)"
   ]
  },
  {
   "cell_type": "code",
   "execution_count": 3,
   "id": "1efbfcb7",
   "metadata": {},
   "outputs": [
    {
     "name": "stdout",
     "output_type": "stream",
     "text": [
      "(1, 2.2, 'Hello', True, [1, 2, 3])\n"
     ]
    }
   ],
   "source": [
    "details = (1,2.2,\"Hello\",True,[1,2,3])\n",
    "print(details)"
   ]
  },
  {
   "cell_type": "code",
   "execution_count": null,
   "id": "5b029f92",
   "metadata": {},
   "outputs": [
    {
     "name": "stdout",
     "output_type": "stream",
     "text": [
      "True\n",
      "('Hello', 2.2, 1)\n",
      "(1, 2.2, 'Hello', True, [1, 2, 3])\n"
     ]
    }
   ],
   "source": [
    "details = (1, 2.2,\"Hello\",True,[1,2,3])\n",
    "print(details[3])\n",
    "print(details[2::-1])\n",
    "print(details[::])\n",
    "# all the indexing and slicing operations will be same as list"
   ]
  },
  {
   "cell_type": "code",
   "execution_count": null,
   "id": "c62b8249",
   "metadata": {},
   "outputs": [
    {
     "name": "stdout",
     "output_type": "stream",
     "text": [
      "(1, 2, 3, 4, 5, 'a', 'b', 'c', 'd', 'e')\n"
     ]
    }
   ],
   "source": [
    "# concatenatiom on on tuples\n",
    "numbers = (1,2,3,4,5)\n",
    "characters = (\"a\",\"b\",\"c\",\"d\",\"e\")\n",
    "concatenated_tuple = numbers + characters\n",
    "print(concatenated_tuple)"
   ]
  },
  {
   "cell_type": "code",
   "execution_count": 4,
   "id": "221c51a8",
   "metadata": {},
   "outputs": [
    {
     "name": "stdout",
     "output_type": "stream",
     "text": [
      "('a', 'b', 'c', 'd', 'e', 'a', 'b', 'c', 'd', 'e')\n"
     ]
    }
   ],
   "source": [
    "characters = (\"a\",\"b\",\"c\",\"d\",\"e\")\n",
    "print(characters*2)"
   ]
  },
  {
   "cell_type": "code",
   "execution_count": 10,
   "id": "695f2feb",
   "metadata": {},
   "outputs": [
    {
     "name": "stdout",
     "output_type": "stream",
     "text": [
      "2\n",
      "5\n"
     ]
    }
   ],
   "source": [
    "numbers = (1,2,2,3,4,5)\n",
    "print(numbers.count(2))\n",
    "print(numbers.index(5))"
   ]
  },
  {
   "cell_type": "code",
   "execution_count": 13,
   "id": "0d9bfca6",
   "metadata": {},
   "outputs": [
    {
     "name": "stdout",
     "output_type": "stream",
     "text": [
      "1\n",
      "2\n",
      "3\n"
     ]
    }
   ],
   "source": [
    "numbers = (1,2,3,4,5)\n",
    "a,b,c,d,e =  numbers\n",
    "print(a)\n",
    "print(b)\n",
    "print(c)"
   ]
  },
  {
   "cell_type": "code",
   "execution_count": 15,
   "id": "b1c5c4c1",
   "metadata": {},
   "outputs": [
    {
     "name": "stdout",
     "output_type": "stream",
     "text": [
      "1\n",
      "(2, 3, 4)\n",
      "5\n"
     ]
    }
   ],
   "source": [
    "numbers = (1,2,3,4,5)\n",
    "a,*b,e =  numbers\n",
    "print(a)\n",
    "print(tuple(b))\n",
    "print(e)"
   ]
  },
  {
   "cell_type": "code",
   "execution_count": 16,
   "id": "fceb37a2",
   "metadata": {},
   "outputs": [
    {
     "name": "stdout",
     "output_type": "stream",
     "text": [
      "7\n"
     ]
    }
   ],
   "source": [
    "nested_tuples = ((1,2,3),(4,5,6),(7,8,9))\n",
    "print(nested_tuples[2][0])"
   ]
  },
  {
   "cell_type": "code",
   "execution_count": 17,
   "id": "01c660c2",
   "metadata": {},
   "outputs": [
    {
     "name": "stdout",
     "output_type": "stream",
     "text": [
      "1 2 3 4 5 6 7 8 9 "
     ]
    }
   ],
   "source": [
    "for tuples in nested_tuples:\n",
    "    for item in tuples:\n",
    "        print(item,end=\" \")\n"
   ]
  }
 ],
 "metadata": {
  "kernelspec": {
   "display_name": "venv",
   "language": "python",
   "name": "python3"
  },
  "language_info": {
   "codemirror_mode": {
    "name": "ipython",
    "version": 3
   },
   "file_extension": ".py",
   "mimetype": "text/x-python",
   "name": "python",
   "nbconvert_exporter": "python",
   "pygments_lexer": "ipython3",
   "version": "3.12.11"
  }
 },
 "nbformat": 4,
 "nbformat_minor": 5
}
