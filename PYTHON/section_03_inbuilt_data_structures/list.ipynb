{
 "cells": [
  {
   "cell_type": "code",
   "execution_count": null,
   "id": "b91eb8d1",
   "metadata": {},
   "outputs": [],
   "source": [
    "## List are ordered mutable collection of items. They can contain items of different data types."
   ]
  },
  {
   "cell_type": "code",
   "execution_count": 1,
   "id": "d489ddda",
   "metadata": {},
   "outputs": [
    {
     "name": "stdout",
     "output_type": "stream",
     "text": [
      "<class 'list'>\n"
     ]
    }
   ],
   "source": [
    "lst = []\n",
    "print(type(lst))"
   ]
  },
  {
   "cell_type": "code",
   "execution_count": 2,
   "id": "53cf5566",
   "metadata": {},
   "outputs": [
    {
     "name": "stdout",
     "output_type": "stream",
     "text": [
      "['Umer', 'Semrah', 'Ali']\n"
     ]
    }
   ],
   "source": [
    "names = [\"Umer\",\"Semrah\",\"Ali\"]\n",
    "print(names)"
   ]
  },
  {
   "cell_type": "code",
   "execution_count": null,
   "id": "8e74a6a7",
   "metadata": {},
   "outputs": [
    {
     "name": "stdout",
     "output_type": "stream",
     "text": [
      "['Jerry', 23, 5.11, True]\n"
     ]
    }
   ],
   "source": [
    "details = [\"Jerry\", 23,5.11,True]\n",
    "print(details)"
   ]
  },
  {
   "cell_type": "code",
   "execution_count": 9,
   "id": "ca0a37bb",
   "metadata": {},
   "outputs": [
    {
     "name": "stdout",
     "output_type": "stream",
     "text": [
      "apple\n",
      "cherry\n",
      "orange\n",
      "orange\n",
      "kiwi\n",
      "mango\n"
     ]
    }
   ],
   "source": [
    "# Accessing items in a list\n",
    "\n",
    "fruits = ['apple', 'mango', 'cherry', 'kiwi', 'orange']\n",
    "print(fruits[0])     \n",
    "print(fruits[2])      \n",
    "print(fruits[4])      \n",
    "print(fruits[-1])     \n",
    "print(fruits[-2])\n",
    "print(fruits[-4])     \n",
    "# print(fruits[-6])  # throw an error because item at this index does not exist        "
   ]
  },
  {
   "cell_type": "code",
   "execution_count": null,
   "id": "6e5f8540",
   "metadata": {},
   "outputs": [
    {
     "name": "stdout",
     "output_type": "stream",
     "text": [
      "['Superman', 'Spiderman', 'Batman', 'Green_Lantern', 'Ben_Ten', 'Swat_Kats']\n",
      "['Superman', 'Spiderman', 'Batman', 'Green_Lantern', 'Ben_Ten', 'Swat_Kats']\n",
      "['Superman', 'Spiderman', 'Batman', 'Green_Lantern', 'Ben_Ten', 'Swat_Kats']\n",
      "['Superman', 'Batman', 'Ben_Ten']\n",
      "['Spiderman', 'Green_Lantern', 'Swat_Kats']\n",
      "['Swat_Kats', 'Ben_Ten', 'Green_Lantern', 'Batman', 'Spiderman', 'Superman']\n",
      "['Spiderman', 'Batman', 'Green_Lantern']\n",
      "['Spiderman', 'Green_Lantern']\n",
      "['Superman', 'Spiderman', 'Batman']\n",
      "['Green_Lantern', 'Ben_Ten', 'Swat_Kats']\n",
      "['Superman', 'Spiderman', 'Batman', 'Green_Lantern', 'Ben_Ten']\n",
      "['Green_Lantern', 'Ben_Ten', 'Swat_Kats']\n",
      "['Batman', 'Green_Lantern', 'Ben_Ten']\n",
      "['Swat_Kats', 'Ben_Ten', 'Green_Lantern', 'Batman', 'Spiderman', 'Superman']\n"
     ]
    }
   ],
   "source": [
    "\n",
    "## Slicing feature\n",
    "\n",
    "superheros = [\"Superman\",\"Spiderman\",\"Batman\",\"Green_Lantern\",\"Ben_Ten\", \"Swat_Kats\"] \n",
    "\n",
    "print(superheros[:])        # Full list\n",
    "print(superheros[::])       # Full list (default step=1)\n",
    "print(superheros[::1])      # Full list with step=1\n",
    "print(superheros[::2])      # Every 2nd element\n",
    "print(superheros[1::2])     # Start from index 1, every 2nd element\n",
    "print(superheros[::-1])     # Reversed list\n",
    "print(superheros[1:4])      # From index 1 up to but not including 4\n",
    "print(superheros[1:5:2])    # From index 1 up to 5 (exclusive) every 2nd element\n",
    "print(superheros[:3])       # From start up to index 3 (exclusive)\n",
    "print(superheros[3:])       # From index 3 to end\n",
    "print(superheros[:-1])      # From start up to last element (exclusive)\n",
    "print(superheros[-3:])      # From 3rd from last to end\n",
    "print(superheros[-4:-1])    # From 4th from last up to last element (exclusive)\n",
    "print(superheros[-1::-1])   # Full list reversed (same as [::-1])\n"
   ]
  },
  {
   "cell_type": "code",
   "execution_count": 33,
   "id": "c7c8029f",
   "metadata": {},
   "outputs": [
    {
     "name": "stdout",
     "output_type": "stream",
     "text": [
      "['orange', 'banana', 'apricot', 'watermelon', 'cherry']\n",
      "['mango', 'banana', 'apricot', 'watermelon', 'cherry']\n"
     ]
    }
   ],
   "source": [
    "fruits = [\"orange\", \"banana\",\"apricot\",\"watermelon\",\"cherry\"]\n",
    "print(fruits)\n",
    "fruits[0]= \"mango\"\n",
    "print(fruits)\n",
    "\n",
    "# fruits[1::]= [\"guava\"] ## case\n",
    "# print(fruits)\n",
    "\n",
    "\n",
    "# fruits[1::]= \"guava\" ## case\n",
    "# print(fruits)\n",
    "\n",
    "# fruits[1::] selects all elements from index 1 to the end\n",
    "# Assigning a string directly treats it as a list of characters: \"guava\" -> ['g','u','a','v','a']\n",
    "# With step=1, Python replaces the slice with the iterable, expanding/shrinking the list\n",
    "# Resulting list length can increase or decrease\n",
    "# To replace the whole slice with a single element, wrap it in a list: [\"guava\"]\n",
    "# To replace each element individually, repeat the element: [\"guava\"] * slice_length\n",
    "\n"
   ]
  },
  {
   "cell_type": "markdown",
   "id": "982ab1fd",
   "metadata": {},
   "source": [
    "### Methods that return None (like append, sort, reverse) modify the list in-place → don’t put them directly in print() unless you want to see None.\n",
    "\n",
    "### Methods that return something meaningful (like pop, index, count) can be safely printed."
   ]
  },
  {
   "cell_type": "code",
   "execution_count": 36,
   "id": "78837bd8",
   "metadata": {},
   "outputs": [
    {
     "name": "stdout",
     "output_type": "stream",
     "text": [
      "['mango', 'banana', 'apricot', 'watermelon', 'cherry', 'strawberry']\n",
      "['orange', 'mango', 'banana', 'apricot', 'watermelon', 'cherry', 'strawberry']\n",
      "['strawberry', 'cherry', 'watermelon', 'apricot', 'banana', 'mango', 'orange']\n",
      "['strawberry', 'cherry', 'watermelon', 'apricot', 'banana', 'mango']\n",
      "mango\n"
     ]
    }
   ],
   "source": [
    "fruits = [\"mango\", \"banana\",\"apricot\",\"watermelon\",\"cherry\"]\n",
    "fruits.append(\"strawberry\")\n",
    "print(fruits)\n",
    "fruits.insert(0,\"orange\")\n",
    "print(fruits)\n",
    "fruits.reverse()\n",
    "print(fruits)\n",
    "fruits.pop() # if also want to returned popped element just wrap it in print\n",
    "print(fruits)\n",
    "print(fruits.pop())"
   ]
  },
  {
   "cell_type": "code",
   "execution_count": 40,
   "id": "594a81a2",
   "metadata": {},
   "outputs": [
    {
     "name": "stdout",
     "output_type": "stream",
     "text": [
      "0\n",
      "1\n"
     ]
    }
   ],
   "source": [
    "superheros = [\"Superman\",\"Spiderman\",\"Batman\",\"Green_Lantern\",\"Ben_Ten\", \"Swat_Kats\"] \n",
    "print(superheros.index(\"Superman\"))\n",
    "print(superheros.count(\"Superman\"))"
   ]
  },
  {
   "cell_type": "code",
   "execution_count": 46,
   "id": "910779b8",
   "metadata": {},
   "outputs": [
    {
     "name": "stdout",
     "output_type": "stream",
     "text": [
      "['Appleman', 'Spiderman', 'Superman', 'Batman', 'Green_Lantern', 'Ben_Ten', 'Swat_Kats'] each swap.\n",
      "['Appleman', 'Spiderman', 'Batman', 'Superman', 'Green_Lantern', 'Ben_Ten', 'Swat_Kats'] each swap.\n",
      "['Appleman', 'Spiderman', 'Batman', 'Green_Lantern', 'Superman', 'Ben_Ten', 'Swat_Kats'] each swap.\n",
      "['Appleman', 'Spiderman', 'Batman', 'Green_Lantern', 'Ben_Ten', 'Superman', 'Swat_Kats'] each swap.\n",
      "['Appleman', 'Spiderman', 'Batman', 'Green_Lantern', 'Ben_Ten', 'Superman', 'Swat_Kats'] see the list after each pass\n",
      "['Appleman', 'Batman', 'Spiderman', 'Green_Lantern', 'Ben_Ten', 'Superman', 'Swat_Kats'] each swap.\n",
      "['Appleman', 'Batman', 'Green_Lantern', 'Spiderman', 'Ben_Ten', 'Superman', 'Swat_Kats'] each swap.\n",
      "['Appleman', 'Batman', 'Green_Lantern', 'Ben_Ten', 'Spiderman', 'Superman', 'Swat_Kats'] each swap.\n",
      "['Appleman', 'Batman', 'Green_Lantern', 'Ben_Ten', 'Spiderman', 'Superman', 'Swat_Kats'] see the list after each pass\n",
      "['Appleman', 'Batman', 'Ben_Ten', 'Green_Lantern', 'Spiderman', 'Superman', 'Swat_Kats'] each swap.\n",
      "['Appleman', 'Batman', 'Ben_Ten', 'Green_Lantern', 'Spiderman', 'Superman', 'Swat_Kats'] see the list after each pass\n",
      "['Appleman', 'Batman', 'Ben_Ten', 'Green_Lantern', 'Spiderman', 'Superman', 'Swat_Kats'] see the list after each pass\n",
      "['Appleman', 'Batman', 'Ben_Ten', 'Green_Lantern', 'Spiderman', 'Superman', 'Swat_Kats'] see the list after each pass\n",
      "['Appleman', 'Batman', 'Ben_Ten', 'Green_Lantern', 'Spiderman', 'Superman', 'Swat_Kats'] see the list after each pass\n",
      "['Appleman', 'Batman', 'Ben_Ten', 'Green_Lantern', 'Spiderman', 'Superman', 'Swat_Kats'] see the list after each pass\n",
      "['Appleman', 'Batman', 'Ben_Ten', 'Green_Lantern', 'Spiderman', 'Superman', 'Swat_Kats'] Final list\n"
     ]
    }
   ],
   "source": [
    "superheros = [\"Appleman\",\"Superman\",\"Spiderman\",\"Batman\",\"Green_Lantern\",\"Ben_Ten\", \"Swat_Kats\"] \n",
    "n = len(superheros)\n",
    "\n",
    "for i in range(n):\n",
    "    for j in range(0,n-i-1):\n",
    "        if superheros[j]>superheros[j+1]:\n",
    "            (superheros[j],superheros[j+1]) = (superheros[j+1],superheros[j])\n",
    "            print(superheros,\"each swap.\")   \n",
    "    print(superheros,\"see the list after each pass\")           \n",
    "print(superheros,\"Final list\")        \n",
    "\n",
    "\n",
    "# Python sorts strings “alphabetically” based on Unicode values, comparing each character in order until a difference is found.\n",
    "# Bubble sort does not automatically stop when the list is already sorted\n",
    "# Standard bubble sort always runs n-1 passes.\n",
    "# Extra passes happen even if the list is already sorted.\n",
    "# Use a swapped flag to terminate early and save unnecessary comparisons."
   ]
  },
  {
   "cell_type": "code",
   "execution_count": null,
   "id": "24175172",
   "metadata": {},
   "outputs": [
    {
     "name": "stdout",
     "output_type": "stream",
     "text": [
      "0 1\n",
      "1 2\n",
      "2 3\n",
      "3 4\n",
      "4 5\n",
      "5 6\n",
      "6 7\n",
      "7 8\n",
      "8 9\n",
      "9 10\n"
     ]
    }
   ],
   "source": [
    "## iterating over list\n",
    "\n",
    "## ex 01\n",
    "# num = [1,2,3,4,5,6,7,8,9,10]\n",
    "# for i in num:\n",
    "#     print(i)\n",
    "\n",
    "## ex 02    \n",
    "# num = [1,2,3,4,5,6,7,8,9,10]\n",
    "# for i in range(num):\n",
    "#     print(i)\n",
    "\n",
    "## ex 03\n",
    "num = [1,2,3,4,5,6,7,8,9,10]\n",
    "for i,num in enumerate(num):\n",
    "    print(i,num)\n",
    "# enumerate(num) gives you (index, value) pairs from the list,The loop unpacks each pair into i (index) and num (value).    "
   ]
  },
  {
   "cell_type": "code",
   "execution_count": 58,
   "id": "7ed492db",
   "metadata": {},
   "outputs": [
    {
     "name": "stdout",
     "output_type": "stream",
     "text": [
      "0 [1, 2, 3, 4, 5, 6, 7, 8, 9, 10]\n",
      "1 [1, 2, 3, 4, 5, 6, 7, 8, 9, 10]\n",
      "2 [1, 2, 3, 4, 5, 6, 7, 8, 9, 10]\n",
      "3 [1, 2, 3, 4, 5, 6, 7, 8, 9, 10]\n",
      "4 [1, 2, 3, 4, 5, 6, 7, 8, 9, 10]\n",
      "5 [1, 2, 3, 4, 5, 6, 7, 8, 9, 10]\n",
      "6 [1, 2, 3, 4, 5, 6, 7, 8, 9, 10]\n",
      "7 [1, 2, 3, 4, 5, 6, 7, 8, 9, 10]\n",
      "8 [1, 2, 3, 4, 5, 6, 7, 8, 9, 10]\n",
      "9 [1, 2, 3, 4, 5, 6, 7, 8, 9, 10]\n"
     ]
    }
   ],
   "source": [
    "## ex 04\n",
    "num = [1,2,3,4,5,6,7,8,9,10]\n",
    "\n",
    "# enumerate(num) returns pairs (index, element)\n",
    "# i   -> index of the element\n",
    "# nums -> the current element at that index\n",
    "# num  -> the original list (never changes inside the loop)\n",
    "\n",
    "for i, nums in enumerate(num): \n",
    "    print(i, num)   # prints index + the entire original list each time\n",
    "    # use print(i, nums) if you want index + current element instead\n"
   ]
  },
  {
   "cell_type": "code",
   "execution_count": null,
   "id": "eb5548a7",
   "metadata": {},
   "outputs": [
    {
     "name": "stdout",
     "output_type": "stream",
     "text": [
      "[0, 1, 4, 9, 16, 25, 36, 49, 64, 81]\n"
     ]
    }
   ],
   "source": [
    "# \n",
    "square = []\n",
    "\n",
    "for i in range(10):\n",
    "    sq = square.append(i*i)\n",
    "print(square)"
   ]
  },
  {
   "cell_type": "code",
   "execution_count": 68,
   "id": "3c4ab90b",
   "metadata": {},
   "outputs": [
    {
     "name": "stdout",
     "output_type": "stream",
     "text": [
      "[0, 1, 4, 9, 16, 25, 36, 49, 64, 81]\n"
     ]
    }
   ],
   "source": [
    "square_2 = [i*i for i in range(10)]\n",
    "print(square_2)"
   ]
  },
  {
   "cell_type": "code",
   "execution_count": 69,
   "id": "611fd0c2",
   "metadata": {},
   "outputs": [
    {
     "name": "stdout",
     "output_type": "stream",
     "text": [
      "[0, 2, 4, 6, 8]\n"
     ]
    }
   ],
   "source": [
    "even = []\n",
    "for i in range(10):\n",
    "    if i %2 ==0:\n",
    "      e = even.append(i)\n",
    "print(even)      "
   ]
  },
  {
   "cell_type": "code",
   "execution_count": 72,
   "id": "45e18d54",
   "metadata": {},
   "outputs": [
    {
     "name": "stdout",
     "output_type": "stream",
     "text": [
      "[0, 2, 4, 6, 8]\n"
     ]
    }
   ],
   "source": [
    "even = [i for i in range(10) if i % 2 == 0]\n",
    "print(even)"
   ]
  },
  {
   "cell_type": "code",
   "execution_count": 75,
   "id": "18093401",
   "metadata": {},
   "outputs": [
    {
     "name": "stdout",
     "output_type": "stream",
     "text": [
      "[(1, 'a'), (1, 'b'), (1, 'c'), (1, 'd'), (2, 'a'), (2, 'b'), (2, 'c'), (2, 'd'), (3, 'a'), (3, 'b'), (3, 'c'), (3, 'd')]\n"
     ]
    }
   ],
   "source": [
    "lst_1 = [1,2,3]\n",
    "lst_2 = [\"a\",\"b\",\"c\",\"d\"]\n",
    "\n",
    "mix = [(i,j) for i in lst_1 for j in lst_2]\n",
    "print(mix)"
   ]
  },
  {
   "cell_type": "code",
   "execution_count": null,
   "id": "a8e72ed5",
   "metadata": {},
   "outputs": [],
   "source": [
    "\n",
    "# List comprehension provides a concise way to create lists. The basic syntax is:\n",
    "# [expression for item in iterable]\n",
    "# You can also add a condition:\n",
    "# [expression for item in iterable if condition]"
   ]
  },
  {
   "cell_type": "code",
   "execution_count": 79,
   "id": "426d15d4",
   "metadata": {},
   "outputs": [
    {
     "name": "stdout",
     "output_type": "stream",
     "text": [
      "[5, 6, 7, 10, 6]\n"
     ]
    }
   ],
   "source": [
    "fruits = [\"mango\", \"banana\",\"apricot\",\"watermelon\",\"cherry\"]\n",
    "length = [len(fruit) for fruit in fruits]\n",
    "print(length)"
   ]
  }
 ],
 "metadata": {
  "kernelspec": {
   "display_name": "Python 3",
   "language": "python",
   "name": "python3"
  },
  "language_info": {
   "codemirror_mode": {
    "name": "ipython",
    "version": 3
   },
   "file_extension": ".py",
   "mimetype": "text/x-python",
   "name": "python",
   "nbconvert_exporter": "python",
   "pygments_lexer": "ipython3",
   "version": "3.12.11"
  }
 },
 "nbformat": 4,
 "nbformat_minor": 5
}
