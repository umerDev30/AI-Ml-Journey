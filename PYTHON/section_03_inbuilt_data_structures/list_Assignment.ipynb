{
 "cells": [
  {
   "cell_type": "markdown",
   "metadata": {},
   "source": [
    "# Module 3: Data Structures Assignments\n",
    "## Lesson 3.1: Lists\n",
    "### Assignment 1: Creating and Accessing Lists\n",
    "\n",
    "Create a list of the first 20 positive integers. Print the list.\n",
    "\n",
    "### Assignment 2: Accessing List Elements\n",
    "\n",
    "Print the first, middle, and last elements of the list created in Assignment 1.\n",
    "\n",
    "### Assignment 3: List Slicing\n",
    "\n",
    "Print the first five elements, the last five elements, and the elements from index 5 to 15 of the list created in Assignment 1.\n",
    "\n",
    "### Assignment 4: List Comprehensions\n",
    "\n",
    "Create a new list containing the squares of the first 10 positive integers using a list comprehension. Print the new list.\n",
    "\n",
    "### Assignment 5: Filtering Lists\n",
    "\n",
    "Create a new list containing only the even numbers from the list created in Assignment 1 using a list comprehension. Print the new list.\n",
    "\n",
    "### Assignment 6: List Methods\n",
    "\n",
    "Create a list of random numbers and sort it in ascending and descending order. Remove the duplicates from the list and print the modified list.\n",
    "\n",
    "### Assignment 7: Nested Lists\n",
    "\n",
    "Create a nested list representing a 3x3 matrix and print the matrix. Access and print the element at the second row and third column.\n",
    "\n",
    "### Assignment 8: List of Dictionaries\n",
    "\n",
    "Create a list of dictionaries where each dictionary represents a student with keys 'name' and 'score'. Sort the list of dictionaries by the 'score' in descending order and print the sorted list.\n",
    "\n",
    "### Assignment 9: Matrix Transposition\n",
    "\n",
    "Write a function that takes a 3x3 matrix (nested list) as input and returns its transpose. Print the original and transposed matrices.\n",
    "\n",
    "### Assignment 10: Flattening a Nested List\n",
    "\n",
    "Write a function that takes a nested list and flattens it into a single list. Print the original and flattened lists.\n",
    "\n",
    "### Assignment 11: List Manipulation\n",
    "\n",
    "Create a list of the first 10 positive integers. Remove the elements at indices 2, 4, and 6, and insert the element '99' at index 5. Print the modified list.\n",
    "\n",
    "### Assignment 12: List Zipping\n",
    "\n",
    "Create two lists of the same length. Use the `zip` function to combine these lists into a list of tuples and print the result.\n",
    "\n",
    "### Assignment 13: List Reversal\n",
    "\n",
    "Write a function that takes a list and returns a new list with the elements in reverse order. Print the original and reversed lists.\n",
    "\n",
    "### Assignment 14: List Rotation\n",
    "\n",
    "Write a function that rotates a list by n positions. Print the original and rotated lists.\n",
    "\n",
    "### Assignment 15: List Intersection\n",
    "\n",
    "Write a function that takes two lists and returns a new list containing only the elements that are present in both lists. Print the intersected list."
   ]
  },
  {
   "cell_type": "code",
   "execution_count": 1,
   "metadata": {},
   "outputs": [
    {
     "name": "stdout",
     "output_type": "stream",
     "text": [
      "[1, 2, 3, 4, 5, 6, 7, 8, 9, 10, 11, 12, 13, 14, 15, 16, 17, 18, 19, 20]\n"
     ]
    }
   ],
   "source": [
    "# Q1\n",
    "positive_integer = []\n",
    "for i in range(1,20+1):\n",
    "    positive_integer.append(i)\n",
    "print(positive_integer)    "
   ]
  },
  {
   "cell_type": "code",
   "execution_count": null,
   "id": "0f2a91bf",
   "metadata": {},
   "outputs": [
    {
     "name": "stdout",
     "output_type": "stream",
     "text": [
      "1\n",
      "11\n",
      "20\n"
     ]
    }
   ],
   "source": [
    "# Q2\n",
    "print(positive_integer[0])\n",
    "print(positive_integer[(len(positive_integer)-1)//2])\n",
    "print(positive_integer[-1])"
   ]
  },
  {
   "cell_type": "code",
   "execution_count": 23,
   "id": "9ba88574",
   "metadata": {},
   "outputs": [
    {
     "name": "stdout",
     "output_type": "stream",
     "text": [
      "[1, 2, 3, 4, 5]\n",
      "[16, 17, 18, 19, 20]\n",
      "[6, 7, 8, 9, 10, 11, 12, 13, 14, 15]\n"
     ]
    }
   ],
   "source": [
    "# Q3\n",
    "print(positive_integer[:5])\n",
    "print(positive_integer[-5:])\n",
    "print(positive_integer[5:15])"
   ]
  },
  {
   "cell_type": "code",
   "execution_count": 28,
   "id": "977439e9",
   "metadata": {},
   "outputs": [
    {
     "name": "stdout",
     "output_type": "stream",
     "text": [
      "[1, 4, 9, 16, 25, 36, 49, 64, 81, 100]\n"
     ]
    }
   ],
   "source": [
    "# Q4\n",
    "square = [i**2 for i in positive_integer[0:10]]\n",
    "print(square)"
   ]
  },
  {
   "cell_type": "code",
   "execution_count": 29,
   "id": "99c01ebb",
   "metadata": {},
   "outputs": [
    {
     "name": "stdout",
     "output_type": "stream",
     "text": [
      "[2, 4, 6, 8, 10, 12, 14, 16, 18, 20]\n"
     ]
    }
   ],
   "source": [
    "# Q5\n",
    "even_integers = [i for i in positive_integer if i % 2 == 0]\n",
    "print(even_integers)"
   ]
  },
  {
   "cell_type": "code",
   "execution_count": 44,
   "id": "345c7e29",
   "metadata": {},
   "outputs": [
    {
     "name": "stdout",
     "output_type": "stream",
     "text": [
      "Original list [4, 78, 43, 83, 32, 44, 76, 98, 64, 12]\n",
      "Sorted list in ascending order: [4, 12, 32, 43, 44, 64, 76, 78, 83, 98]\n",
      "Sorted list in descending order: [98, 83, 78, 76, 64, 44, 43, 32, 12, 4]\n",
      "[83, 44, 64, 12, 98, 4, 78, 43, 76, 32, 78]\n",
      "{64, 32, 98, 4, 43, 44, 12, 78, 76, 83}\n"
     ]
    }
   ],
   "source": [
    "# Q6\n",
    "import random\n",
    "\n",
    "x = [random.randint(1,100) for i in range(1,10+1)]\n",
    "print(\"Original list\",x)\n",
    "\n",
    "# sorting in ascending order\n",
    "n = len(x)\n",
    "for i in range(n):\n",
    "    min_index = i\n",
    "    for j in range(i+1,n):\n",
    "        if x[j]<x[min_index]:\n",
    "            min_index = j\n",
    "\n",
    "    (x[i],x[min_index])=(x[min_index],x[i])\n",
    "print(\"Sorted list in ascending order:\",x) \n",
    "\n",
    "#sorting in descending order\n",
    "\n",
    "for i in range(n):\n",
    "    max_index = i\n",
    "    for j in range(i+1,n):\n",
    "        if x[j]>x[max_index]:\n",
    "            max_index = j\n",
    "    (x[i],x[max_index])=(x[max_index],x[i])\n",
    "print(\"Sorted list in descending order:\",x)            \n",
    "\n",
    "# creating duplicate list and making them removing it\n",
    "y = x+random.choices(x)\n",
    "random.shuffle(y)\n",
    "print(y)\n",
    "\n",
    "s = set(y)\n",
    "print(s)"
   ]
  },
  {
   "cell_type": "code",
   "execution_count": null,
   "id": "11ab1e53",
   "metadata": {},
   "outputs": [
    {
     "name": "stdout",
     "output_type": "stream",
     "text": [
      "[1, 2, 3]\n",
      "[4, 5, 6]\n",
      "[7, 8, 9]\n",
      " \n",
      "The element at second row and third column is:  6\n"
     ]
    }
   ],
   "source": [
    "# Q7\n",
    "matrix = [[1,2,3],[4,5,6],[7,8,9]]\n",
    "for i in matrix:\n",
    "    print(i)\n",
    "print(\" \")\n",
    "print(\"The element at second row and third column is: \",matrix[1][2])    "
   ]
  },
  {
   "cell_type": "code",
   "execution_count": 3,
   "id": "9408d14b",
   "metadata": {},
   "outputs": [
    {
     "name": "stdout",
     "output_type": "stream",
     "text": [
      "[{'name': 'Ali', 'score': 84}, {'name': 'Hussain', 'score': 70}, {'name': 'Semrah', 'score': 50}]\n"
     ]
    }
   ],
   "source": [
    "# Q8\n",
    "student_details = [{\"name\":\"Semrah\",\"score\":50},{\"name\":\"Hussain\",\"score\":70},{\"name\":\"Ali\",\"score\":84}]\n",
    "sorted_in_descending = sorted( student_details, key=lambda x:x[\"score\"],reverse= True)\n",
    "print(sorted_in_descending)"
   ]
  },
  {
   "cell_type": "code",
   "execution_count": 31,
   "id": "8be62a5c",
   "metadata": {},
   "outputs": [
    {
     "name": "stdout",
     "output_type": "stream",
     "text": [
      "[[1, 2, 3], [4, 5, 6], [7, 8, 9]]\n",
      " \n",
      "[[1, 4, 7], [2, 5, 8], [3, 6, 9]]\n"
     ]
    }
   ],
   "source": [
    "# Q9\n",
    "def transposed_matrix(m):\n",
    "    rows = len(m) # 3  > indexes 0,1,2\n",
    "    columns = len(m[0]) #3 > indexes 0,1,2\n",
    "    transpose =[]\n",
    "    for j in range(columns): # m[j][i]\n",
    "        new_row = []\n",
    "        for i in range(rows):\n",
    "          new_row.append(m[i][j])\n",
    "        transpose.append(new_row)\n",
    "    return transpose\n",
    "\n",
    "matrix = []\n",
    "count = 1\n",
    "for i in range(0,3):\n",
    "    rows = []\n",
    "    for j in range(0,3):\n",
    "     rows.append(count)\n",
    "     count = count + 1\n",
    "    matrix.append(rows)\n",
    "print(matrix)\n",
    "print(\" \")\n",
    "t = transposed_matrix(matrix)\n",
    "print(t)"
   ]
  },
  {
   "cell_type": "code",
   "execution_count": 40,
   "id": "9f271e90",
   "metadata": {},
   "outputs": [
    {
     "name": "stdout",
     "output_type": "stream",
     "text": [
      "[1, 2, 3, 4, 5, 6, 7, 8, 9]\n"
     ]
    }
   ],
   "source": [
    "# Q10\n",
    "matrix = [[1,2,3],[4,5,6],[7,8,9]]\n",
    "new_list = []\n",
    "for row in matrix:\n",
    "    for num in row:\n",
    "     new_list.append(num)\n",
    "print(new_list)    "
   ]
  },
  {
   "cell_type": "code",
   "execution_count": 45,
   "id": "06230492",
   "metadata": {},
   "outputs": [
    {
     "name": "stdout",
     "output_type": "stream",
     "text": [
      "[1, 2, 3, 4, 5, 6, 8, 9, 10]\n",
      "[1, 2, 3, 4, 6, 8, 9, 10]\n",
      "[1, 2, 4, 6, 8, 9, 10]\n",
      "[1, 2, 4, 6, 8, 99, 9, 10]\n"
     ]
    }
   ],
   "source": [
    "# Q11\n",
    "lst = [1,2,3,4,5,6,7,8,9,10]\n",
    "del lst[6]\n",
    "print(lst)\n",
    "lst.pop(4)\n",
    "print(lst)\n",
    "lst.pop(2)\n",
    "print(lst)\n",
    "lst.insert(5,99)\n",
    "print(lst)"
   ]
  },
  {
   "cell_type": "code",
   "execution_count": 47,
   "id": "bb2ae7ee",
   "metadata": {},
   "outputs": [
    {
     "name": "stdout",
     "output_type": "stream",
     "text": [
      "[(1, 4), (2, 5), (3, 6)]\n"
     ]
    }
   ],
   "source": [
    "# Q12\n",
    "a = [1,2,3]\n",
    "b = [4,5,6]\n",
    "c = list(zip(a,b))\n",
    "print(c)\n"
   ]
  },
  {
   "cell_type": "code",
   "execution_count": 49,
   "id": "87f188d1",
   "metadata": {},
   "outputs": [
    {
     "name": "stdout",
     "output_type": "stream",
     "text": [
      "Original list [1, 2, 3, 4, 5, 6, 7, 8, 9, 10]\n",
      "Reversed list [10, 9, 8, 7, 6, 5, 4, 3, 2, 1]\n"
     ]
    }
   ],
   "source": [
    "# Q13\n",
    "def reversed_list(lst):\n",
    "    r = lst[::-1]\n",
    "    return r\n",
    "\n",
    "lst = [1,2,3,4,5,6,7,8,9,10]\n",
    "print(\"Original list\",lst)\n",
    "reverse = reversed_list(lst)\n",
    "print(\"Reversed list\",reverse)"
   ]
  },
  {
   "cell_type": "code",
   "execution_count": null,
   "id": "04013637",
   "metadata": {},
   "outputs": [
    {
     "name": "stdout",
     "output_type": "stream",
     "text": [
      "Original list [1, 2, 3, 4, 5]\n",
      "rotate list to the right [4, 5, 1, 2, 3]\n",
      "rotate list to the left [3, 4, 5, 1, 2]\n"
     ]
    }
   ],
   "source": [
    "# Q14\n",
    "def rotate(lst,n):\n",
    "    right_rotate = lst[-n:]+lst[:-n]\n",
    "    left_rotate = lst[n:]+lst[:n]\n",
    "    return right_rotate,left_rotate # When we return multiple values separated by commas, Python automatically packs them into a tuple.\n",
    "\n",
    "\n",
    "## wrong way\n",
    "\n",
    "# lst = [1,2,3,4,5]\n",
    "# n = 2\n",
    "# print(\"Original list\",lst)\n",
    "# right_rotate = rotate(lst,n)\n",
    "# print(\"rotate list to the right\",right_rotate)\n",
    "# left_rotate = rotate(lst,n)\n",
    "# print(\"rotate list to the left\",left_rotate)\n",
    "\n",
    "# ❌ Issue: The function rotate() returns both right and left rotations as a tuple,\n",
    "# but in the main code we assigned the whole tuple to right_rotate and left_rotate separately.\n",
    "# This makes both variables hold (right_rotate, left_rotate) instead of just one rotation.\n",
    "# ✅ Fix: Unpack the returned tuple like:\n",
    "# right_rotate, left_rotate = rotate(lst, n)\n",
    "\n",
    "####\n",
    "# Which is why, when you assign it like this:\n",
    "# right_rotate = rotate(lst, n)\n",
    "# right_rotate actually holds:\n",
    "# ([4, 5, 1, 2, 3], [3, 4, 5, 1, 2])\n",
    "####\n",
    "\n",
    "## right way\n",
    "\n",
    "lst = [1,2,3,4,5]\n",
    "n = 2\n",
    "print(\"Original list\",lst)\n",
    "\n",
    "right_rotate,left_rotate = rotate(lst,n)\n",
    "\n",
    "print(\"rotate list to the right\",right_rotate)\n",
    "print(\"rotate list to the left\",left_rotate)\n",
    "\n",
    "# NOTE: The function returns (right_rotate, left_rotate) as a tuple.\n",
    "# When unpacking, Python assigns values by POSITION, not by variable name.\n",
    "# So the first returned value goes to the first variable, the second to the second, etc.\n",
    "# Example: right_rotate, left_rotate = rotate(lst, n)\n"
   ]
  },
  {
   "cell_type": "code",
   "execution_count": null,
   "id": "63e57cd7",
   "metadata": {},
   "outputs": [],
   "source": [
    "# 🔹 Packing\n",
    "\n",
    "# Packing means grouping multiple values into a single variable (usually a tuple, but can be a list/dict too).\n",
    "\n",
    "# It happens automatically when you use commas.\n",
    "\n",
    "# # Packing into a tuple\n",
    "# packed = 1, 2, 3\n",
    "# print(packed)        # (1, 2, 3)\n",
    "# print(type(packed))  # <class 'tuple'>\n",
    "\n",
    "\n",
    "# ➡️ So in your function:\n",
    "\n",
    "# return right_rotate, left_rotate\n",
    "\n",
    "\n",
    "# Python packs those two lists into a tuple.\n",
    "\n",
    "# 🔹 Unpacking\n",
    "\n",
    "# Unpacking means splitting the packed values back into separate variables.\n",
    "\n",
    "# packed = (1, 2, 3)\n",
    "\n",
    "# a, b, c = packed   # Unpacking\n",
    "# print(a, b, c)     # 1 2 3\n",
    "\n",
    "\n",
    "# ➡️ In your case:\n",
    "\n",
    "# right_rotate, left_rotate = rotate(lst, n)\n",
    "\n",
    "\n",
    "# You are unpacking the tuple returned by the function into two separate variables.\n",
    "\n",
    "# 🔹 Extended Unpacking (*)\n",
    "\n",
    "# Python also allows flexible unpacking with *:\n",
    "\n",
    "# numbers = [1, 2, 3, 4, 5]\n",
    "\n",
    "# a, *b, c = numbers\n",
    "# print(a)  # 1\n",
    "# print(b)  # [2, 3, 4]\n",
    "# print(c)  # 5\n",
    "\n",
    "\n",
    "# ✅ Summary:\n",
    "\n",
    "# Packing: multiple values → one variable (e.g., (x, y, z)).\n",
    "\n",
    "# Unpacking: one variable → multiple values (e.g., a, b, c = packed)."
   ]
  },
  {
   "cell_type": "code",
   "execution_count": 61,
   "id": "81717044",
   "metadata": {},
   "outputs": [
    {
     "name": "stdout",
     "output_type": "stream",
     "text": [
      "[5, 7, 3]\n"
     ]
    }
   ],
   "source": [
    "# Q15\n",
    "def same_element(lst1,lst2):\n",
    "    new_list = []\n",
    "    for i in lst1:\n",
    "        if i in lst2 and i not in new_list:\n",
    "                  new_list.append(i)\n",
    "    return new_list\n",
    "\n",
    "\n",
    "list1 = [1, 4, 5, 7, 2, 3]\n",
    "list2 = [3, 5, 9, 7, 8, 6, 7]\n",
    "unique_list = same_element(list1,list2)\n",
    "print(unique_list)"
   ]
  },
  {
   "cell_type": "code",
   "execution_count": null,
   "id": "f12e4695",
   "metadata": {},
   "outputs": [],
   "source": [
    "# ex\n",
    "list1 = [1, 2, 3, 4, 5]\n",
    "list2 = [4, 5, 6, 7, 8]\n",
    "\n",
    "intersection = []   # new list for common elements\n",
    "\n",
    "for i in list1:            # check each element in list1\n",
    "    for j in list2:        # compare with each element in list2\n",
    "        if i == j:         # if same\n",
    "            if i not in intersection:  # avoid duplicates\n",
    "                intersection.append(i)\n",
    "\n",
    "print(\"Intersection:\", intersection)   # [4, 5]\n"
   ]
  }
 ],
 "metadata": {
  "kernelspec": {
   "display_name": "venv",
   "language": "python",
   "name": "python3"
  },
  "language_info": {
   "codemirror_mode": {
    "name": "ipython",
    "version": 3
   },
   "file_extension": ".py",
   "mimetype": "text/x-python",
   "name": "python",
   "nbconvert_exporter": "python",
   "pygments_lexer": "ipython3",
   "version": "3.12.11"
  }
 },
 "nbformat": 4,
 "nbformat_minor": 5
}
