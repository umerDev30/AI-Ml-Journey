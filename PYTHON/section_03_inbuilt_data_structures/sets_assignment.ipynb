{
 "cells": [
  {
   "cell_type": "markdown",
   "metadata": {},
   "source": [
    "# Module 3: Data Structures Assignments\n",
    "## Lesson 3.3: Sets\n",
    "### Assignment 1: Creating and Accessing Sets\n",
    "\n",
    "Create a set with the first 10 positive integers. Print the set.\n",
    "\n",
    "### Assignment 2: Adding and Removing Elements\n",
    "\n",
    "Add the number 11 to the set created in Assignment 1. Then remove the number 1 from the set. Print the modified set.\n",
    "\n",
    "### Assignment 3: Set Operations\n",
    "\n",
    "Create two sets: one with the first 5 positive integers and another with the first 5 even integers. Perform and print the results of union, intersection, difference, and symmetric difference operations on these sets.\n",
    "\n",
    "### Assignment 4: Set Comprehensions\n",
    "\n",
    "Create a new set containing the squares of the first 10 positive integers using a set comprehension. Print the new set.\n",
    "\n",
    "### Assignment 5: Filtering Sets\n",
    "\n",
    "Create a new set containing only the even numbers from the set created in Assignment 1 using a set comprehension. Print the new set.\n",
    "\n",
    "### Assignment 6: Set Methods\n",
    "\n",
    "Create a list with duplicate elements and remove the duplicates using set methods. Print the modified set.\n",
    "\n",
    "### Assignment 7: Subsets and Supersets\n",
    "\n",
    "Create two sets: one with the first 5 positive integers and another with the first 3 positive integers. Check if the second set is a subset of the first set and if the first set is a superset of the second set. Print the results.\n",
    "\n",
    "### Assignment 8: Frozenset\n",
    "\n",
    "Create a frozenset with the first 5 positive integers. Print the frozenset.\n",
    "\n",
    "### Assignment 9: Set and List Conversion\n",
    "\n",
    "Create a set with the first 5 positive integers. Convert it to a list, append the number 6, and convert it back to a set. Print the resulting set.\n",
    "\n",
    "### Assignment 10: Set and Dictionary\n",
    "\n",
    "Create a dictionary with set keys and integer values. Print the dictionary.\n",
    "\n",
    "### Assignment 11: Iterating Over Sets\n",
    "\n",
    "Create a set and iterate over the elements, printing each element.\n",
    "\n",
    "### Assignment 12: Removing Elements from Sets\n",
    "\n",
    "Create a set and remove elements from it until it is empty. Print the set after each removal.\n",
    "\n",
    "### Assignment 13: Set Symmetric Difference Update\n",
    "\n",
    "Create two sets and update the first set with the symmetric difference of the two sets. Print the modified first set.\n",
    "\n",
    "### Assignment 14: Set Membership Testing\n",
    "\n",
    "Create a set and test if certain elements are present in the set. Print the results.\n",
    "\n",
    "### Assignment 15: Set of Tuples\n",
    "\n",
    "Create a set containing tuples, where each tuple contains two elements. Print the set."
   ]
  },
  {
   "cell_type": "code",
   "execution_count": 21,
   "id": "f08de681",
   "metadata": {},
   "outputs": [
    {
     "name": "stdout",
     "output_type": "stream",
     "text": [
      "{1, 2, 3, 4, 5, 6, 7, 8, 9, 10}\n"
     ]
    }
   ],
   "source": [
    "# Q1\n",
    "integer_set_1 = {1,2,3,4,5,6,7,8,9,10}\n",
    "print(integer_set_1)"
   ]
  },
  {
   "cell_type": "code",
   "execution_count": 32,
   "id": "ffc43e7e",
   "metadata": {},
   "outputs": [
    {
     "name": "stdout",
     "output_type": "stream",
     "text": [
      "{2, 3, 4, 5, 6, 7, 8, 9, 10, 11}\n"
     ]
    }
   ],
   "source": [
    "# Q2\n",
    "integer_set_1.add(11)\n",
    "integer_set_1.remove(1)\n",
    "print(integer_set_1)"
   ]
  },
  {
   "cell_type": "code",
   "execution_count": 31,
   "id": "bf87fc9d",
   "metadata": {},
   "outputs": [
    {
     "name": "stdout",
     "output_type": "stream",
     "text": [
      "{1, 2, 3, 4, 5, 6, 8, 10}\n",
      "{2, 4}\n",
      "{1, 3, 5}\n",
      "{1, 3, 5, 6, 8, 10}\n"
     ]
    }
   ],
   "source": [
    "# Q3\n",
    "set_1 = {1,2,3,4,5}\n",
    "set_2 = {2,4,6,8,10}\n",
    "print(set_1.union(set_2))\n",
    "print(set_1.intersection(set_2))\n",
    "print(set_1.difference(set_2))\n",
    "print(set_1.symmetric_difference(set_2))"
   ]
  },
  {
   "cell_type": "code",
   "execution_count": null,
   "id": "1a7a180d",
   "metadata": {},
   "outputs": [
    {
     "name": "stdout",
     "output_type": "stream",
     "text": [
      "{64, 1, 4, 36, 100, 9, 16, 49, 81, 25}\n"
     ]
    }
   ],
   "source": [
    "# Q4\n",
    "square_set = {i**2 for i in range(1,10+1)}\n",
    "print(square_set) # Sets are unordered, so the numbers may appear in any order when printed."
   ]
  },
  {
   "cell_type": "code",
   "execution_count": null,
   "id": "4c30809d",
   "metadata": {},
   "outputs": [
    {
     "name": "stdout",
     "output_type": "stream",
     "text": [
      "{2, 4, 6, 8, 10}\n"
     ]
    }
   ],
   "source": [
    "# Q5\n",
    "new_set = {i for i in integer_set_1 if i % 2 ==0}\n",
    "print(new_set)"
   ]
  },
  {
   "cell_type": "code",
   "execution_count": null,
   "id": "48f5f453",
   "metadata": {},
   "outputs": [
    {
     "name": "stdout",
     "output_type": "stream",
     "text": [
      "{1, 2, 3, 4, 5, 7}\n"
     ]
    }
   ],
   "source": [
    "# Q6\n",
    "duplicate_lst = [1,1,2,2,3,3,4,4,5,7]\n",
    "print(set(duplicate_lst)) "
   ]
  },
  {
   "cell_type": "code",
   "execution_count": 14,
   "id": "65df62ee",
   "metadata": {},
   "outputs": [
    {
     "name": "stdout",
     "output_type": "stream",
     "text": [
      "True\n",
      "True\n"
     ]
    }
   ],
   "source": [
    "# Q7\n",
    "set_1 = {1,2,3,4,5}\n",
    "set_2 = {1,2,3}\n",
    "print(set_2.issubset(set_1))\n",
    "print(set_1.issuperset(set_2))"
   ]
  },
  {
   "cell_type": "code",
   "execution_count": 13,
   "id": "1ac00109",
   "metadata": {},
   "outputs": [
    {
     "name": "stdout",
     "output_type": "stream",
     "text": [
      "frozenset({1, 2, 3, 4, 5})\n"
     ]
    }
   ],
   "source": [
    "# Q8\n",
    "frozen_set = frozenset({1,2,3,4,5})\n",
    "print(frozen_set)"
   ]
  },
  {
   "cell_type": "code",
   "execution_count": 12,
   "id": "2dcedbbb",
   "metadata": {},
   "outputs": [
    {
     "name": "stdout",
     "output_type": "stream",
     "text": [
      "{1, 2, 3, 4, 5, 6}\n"
     ]
    }
   ],
   "source": [
    "# Q9\n",
    "integer_set = {1,2,3,4,5}\n",
    "lst = list(integer_set)\n",
    "lst.append(6)\n",
    "to_set= set(lst)\n",
    "print(to_set)"
   ]
  },
  {
   "cell_type": "code",
   "execution_count": 11,
   "id": "742f87fd",
   "metadata": {},
   "outputs": [
    {
     "name": "stdout",
     "output_type": "stream",
     "text": [
      "{frozenset({'a'}): 1, frozenset({'b'}): 2, frozenset({'c'}): 3}\n",
      "{'a'} : 1\n",
      "{'b'} : 2\n",
      "{'c'} : 3\n"
     ]
    }
   ],
   "source": [
    "# Q10\n",
    "dict_set = {frozenset({\"a\"}):1,frozenset({\"b\"}):2,frozenset({\"c\"}):3}\n",
    "print(dict_set)\n",
    "for key,value in dict_set.items():\n",
    "    print(f\"{set(key)} : {value}\")\n"
   ]
  },
  {
   "cell_type": "code",
   "execution_count": 2,
   "id": "849f188a",
   "metadata": {},
   "outputs": [
    {
     "name": "stdout",
     "output_type": "stream",
     "text": [
      "1\n",
      "2\n",
      "3\n",
      "4\n",
      "5\n",
      "6\n",
      "7\n",
      "8\n",
      "9\n",
      "10\n"
     ]
    }
   ],
   "source": [
    "# Q11\n",
    "my_set = {1,2,3,4,5,6,7,8,9,10}\n",
    "for i in my_set:\n",
    "    print(i)"
   ]
  },
  {
   "cell_type": "code",
   "execution_count": null,
   "metadata": {},
   "outputs": [
    {
     "name": "stdout",
     "output_type": "stream",
     "text": [
      "{2, 3, 4, 5}\n",
      "{3, 4, 5}\n",
      "{4, 5}\n",
      "{5}\n",
      "set()\n"
     ]
    }
   ],
   "source": [
    "# Q12\n",
    "set_12 = {1,2,3,4,5}\n",
    "\n",
    "for i in set_12.copy():\n",
    "    set_12.pop()\n",
    "    print(set_12)\n",
    "\n",
    "# Python’s for loop uses an iterator under the hood.\n",
    "# An iterator is an object that keeps track of where you are in a sequence (or set, dict, etc.).\n",
    "# When you modify (add/remove elements from) the set you’re iterating over, \n",
    "# the iterator becomes invalid — Python doesn’t know how to safely continue.    \n",
    "\n",
    "# for i in my_set.copy():\n",
    "# we’re iterating over a separate copy of the set.\n",
    "# This means:\n",
    "# The loop reads from the copy.\n",
    "# You’re free to modify the original my_set safely.\n",
    "# No runtime errors, and you can remove elements one by one."
   ]
  },
  {
   "cell_type": "code",
   "execution_count": null,
   "metadata": {},
   "outputs": [
    {
     "name": "stdout",
     "output_type": "stream",
     "text": [
      "{1, 5, 6, 7, 8, 9, 10}\n"
     ]
    }
   ],
   "source": [
    "# Q13\n",
    "set_1 = {1,2,5,4,3}\n",
    "set_2 = {6,7,8,9,10,2,3,4}\n",
    "set_1.symmetric_difference_update(set_2) \n",
    "print(set_1) \n",
    "\n",
    "# The symmetric difference between two sets is all elements that are in either of the sets, but not in both\n",
    "# The symmetric_difference_update() method does not return any value; it modifies the set in place.\n",
    "# The method modifies the existing object directly, instead of creating and returning a new one."
   ]
  },
  {
   "cell_type": "code",
   "execution_count": 4,
   "id": "3494224f",
   "metadata": {},
   "outputs": [
    {
     "name": "stdout",
     "output_type": "stream",
     "text": [
      "False\n",
      "True\n"
     ]
    }
   ],
   "source": [
    "# Q14\n",
    "set_14 = {1,2,3,4,5}\n",
    "print(6 in set_14)\n",
    "print(3 in set_14)"
   ]
  },
  {
   "cell_type": "code",
   "execution_count": null,
   "metadata": {},
   "outputs": [
    {
     "name": "stdout",
     "output_type": "stream",
     "text": [
      "{(1, 2), (3, 4), (5, 6)}\n"
     ]
    }
   ],
   "source": [
    "# Q15\n",
    "tuple_set = {(1,2),(3,4),(5,6)}\n",
    "print(tuple_set) "
   ]
  }
 ],
 "metadata": {
  "kernelspec": {
   "display_name": "venv",
   "language": "python",
   "name": "python3"
  },
  "language_info": {
   "codemirror_mode": {
    "name": "ipython",
    "version": 3
   },
   "file_extension": ".py",
   "mimetype": "text/x-python",
   "name": "python",
   "nbconvert_exporter": "python",
   "pygments_lexer": "ipython3",
   "version": "3.12.11"
  }
 },
 "nbformat": 4,
 "nbformat_minor": 5
}
