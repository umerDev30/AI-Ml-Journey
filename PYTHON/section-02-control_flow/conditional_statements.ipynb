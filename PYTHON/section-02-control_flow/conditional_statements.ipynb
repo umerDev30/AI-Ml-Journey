{
 "cells": [
  {
   "cell_type": "markdown",
   "id": "0aca35b3",
   "metadata": {},
   "source": [
    "## Determine if a year is a leap year using nested condition statement\n"
   ]
  },
  {
   "cell_type": "code",
   "execution_count": null,
   "id": "a6856604",
   "metadata": {},
   "outputs": [
    {
     "name": "stdout",
     "output_type": "stream",
     "text": [
      "It is a leap year.\n"
     ]
    }
   ],
   "source": [
    "year = int(input(\"Enter year to check whether it is leap year or not: \"))\n",
    "if year % 4 == 0:\n",
    "    if year % 100 == 0:\n",
    "        if year % 400 == 0:\n",
    "            print(\"It is a leap year.\")\n",
    "        else:\n",
    "            print(\"It is not a leap year.\")\n",
    "    else:\n",
    "          print(\"It is a leap year.\") \n",
    "else:\n",
    "          print(\"It is not a leap year.\")                       "
   ]
  },
  {
   "cell_type": "markdown",
   "id": "77379fab",
   "metadata": {},
   "source": [
    "## Simple Calculator program"
   ]
  },
  {
   "cell_type": "code",
   "execution_count": 6,
   "id": "3da2b820",
   "metadata": {},
   "outputs": [
    {
     "name": "stdout",
     "output_type": "stream",
     "text": [
      "Enter non-zero divisor\n"
     ]
    }
   ],
   "source": [
    "i = int(input(\"Enter a number:\"))\n",
    "j = int(input(\"Enter a number:\"))\n",
    "k = input(\"Enter the operation (+,-,*,/):\")\n",
    "\n",
    "if k == \"+\":\n",
    "    print(f\"The sum of {i} and {j}: {i+j}\")\n",
    "elif k == \"-\":\n",
    "    print(f\"The difference of {i} and {j}: {i-j}\")\n",
    "elif k == \"*\":\n",
    "    print(f\"The multiplication of {i} and {j}: {i*j}\") \n",
    "elif k == \"/\":\n",
    "    if j != 0:\n",
    "       print(f\"The division of {i} and {j}: {i/j}\")       \n",
    "    else:\n",
    "        print(\"Enter non-zero divisor\")   \n",
    "else:\n",
    "    print(\"Enter valid operation.\")            "
   ]
  },
  {
   "cell_type": "markdown",
   "id": "8706007a",
   "metadata": {},
   "source": [
    "## Q: Write a Python program to determine the price of a ticket based on a person’s age and student status."
   ]
  },
  {
   "cell_type": "code",
   "execution_count": 19,
   "id": "df41d2ea",
   "metadata": {},
   "outputs": [
    {
     "name": "stdout",
     "output_type": "stream",
     "text": [
      "Ticket is $15.\n"
     ]
    }
   ],
   "source": [
    "age = int(input(\"Enter your age:\"))\n",
    "#is_student = \"no\"\n",
    "if age > 12:\n",
    " is_student = input(\"Are you student (yes/no):\").lower()\n",
    "\n",
    "if age < 5:\n",
    "    print(\"Ticket is free.\")\n",
    "elif age <= 12:\n",
    "        print(\"Ticket is $10.99.\")\n",
    "elif age <= 17:\n",
    "      if is_student == \"yes\":\n",
    "         print(\"Ticket is $13.\") \n",
    "      else:\n",
    "          print(\"Ticket is $15.\")           \n",
    "elif age <= 35:\n",
    "     if is_student == \"yes\":\n",
    "         print(\"Ticket is $18.\") \n",
    "     else:\n",
    "           print(\"Ticket is $35.\") \n",
    "else:\n",
    "     print(\"Ticket is $20.\")        \n",
    "\n",
    "                        "
   ]
  },
  {
   "cell_type": "markdown",
   "id": "e3122c6c",
   "metadata": {},
   "source": [
    "## Calculate an employee's bonus based on their performance rating and years of service."
   ]
  },
  {
   "cell_type": "code",
   "execution_count": null,
   "id": "cf425f1c",
   "metadata": {},
   "outputs": [
    {
     "name": "stdout",
     "output_type": "stream",
     "text": [
      "Bonus Salary: $6750.00\n"
     ]
    }
   ],
   "source": [
    "service = int(input(\"Enter your years of service:\"))\n",
    "salary = float(input(\"Enter your current salary:\"))\n",
    "rating = float(input(\"Enter your performance rating (1.0 - 5.0):\"))\n",
    "bonus = 0\n",
    "def bonus_calculation(service,salary,rating):\n",
    "    if rating >= 4.5:\n",
    "        if service > 10:\n",
    "            bonus = salary * 20/100\n",
    "        elif service > 5:\n",
    "            bonus = salary * 15/100\n",
    "        else:\n",
    "            bonus = salary * 10/100\n",
    "    elif rating >= 3.5:\n",
    "        if service > 10:\n",
    "            bonus = salary * 15/100\n",
    "        elif service > 5:\n",
    "             bonus = salary * 10/100\n",
    "        else:\n",
    "             bonus = salary * 5/100\n",
    "    else:\n",
    "        bonus = 0\n",
    "    return bonus    \n",
    "\n",
    "bonus_salary = bonus_calculation(service,salary,rating)\n",
    "print(\"Bonus Salary: ${:.2f}\".format(bonus_salary))        \n"
   ]
  },
  {
   "cell_type": "markdown",
   "id": "fa6696d7",
   "metadata": {},
   "source": [
    "## A simple user login system that checks the username and password.\n",
    "\n"
   ]
  },
  {
   "cell_type": "code",
   "execution_count": 29,
   "id": "afb60461",
   "metadata": {},
   "outputs": [
    {
     "name": "stdout",
     "output_type": "stream",
     "text": [
      "Login Unsuccessful\n"
     ]
    }
   ],
   "source": [
    "username_stored = \"Admin\"\n",
    "userpassword_stored = \"123\"\n",
    "\n",
    "username = input(\"Enter your username:\")\n",
    "password = input(\"Enter your password:\")\n",
    "if username == username_stored:\n",
    "    if password == userpassword_stored:\n",
    "        print(\"Login Successful\")\n",
    "    else:\n",
    "         print(\"Login Unsuccessful\")   \n",
    "else:\n",
    "    print(\"User not found.\")         "
   ]
  }
 ],
 "metadata": {
  "kernelspec": {
   "display_name": "Python 3",
   "language": "python",
   "name": "python3"
  },
  "language_info": {
   "codemirror_mode": {
    "name": "ipython",
    "version": 3
   },
   "file_extension": ".py",
   "mimetype": "text/x-python",
   "name": "python",
   "nbconvert_exporter": "python",
   "pygments_lexer": "ipython3",
   "version": "3.12.11"
  }
 },
 "nbformat": 4,
 "nbformat_minor": 5
}
