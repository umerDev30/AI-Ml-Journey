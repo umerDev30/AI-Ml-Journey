{
 "cells": [
  {
   "cell_type": "markdown",
   "id": "6559447f",
   "metadata": {},
   "source": [
    "## Syntax Vs Semantics"
   ]
  },
  {
   "cell_type": "code",
   "execution_count": null,
   "id": "506dfee7",
   "metadata": {},
   "outputs": [],
   "source": [
    "### Syntax refers to the rules and structure for how words, symbols, or code elements\n",
    "#   can be arranged. It’s about form and correctness of construction.\n",
    "#   i.e: the correct arrangement of keywords, operators,\n",
    "#   and punctuation so the compiler/interpreter can process it. \n",
    "### Semantics refers to the meaning of those words, symbols,\n",
    "#   or structures once they’ve been correctly arranged.\n",
    "#   i.e: what the code does when executed."
   ]
  },
  {
   "cell_type": "code",
   "execution_count": null,
   "id": "6c302140",
   "metadata": {},
   "outputs": [],
   "source": [
    "## conda activate ./venv\n",
    "# to activate environment"
   ]
  },
  {
   "cell_type": "code",
   "execution_count": 1,
   "id": "11497b53",
   "metadata": {},
   "outputs": [
    {
     "name": "stdout",
     "output_type": "stream",
     "text": [
      "Hello, World!\n"
     ]
    }
   ],
   "source": [
    "print(\"Hello, World!\")"
   ]
  },
  {
   "cell_type": "code",
   "execution_count": null,
   "id": "c14584a3",
   "metadata": {},
   "outputs": [
    {
     "name": "stdout",
     "output_type": "stream",
     "text": [
      "28\n"
     ]
    }
   ],
   "source": [
    "# line continuation using backslash (\\)\n",
    "sum = 1+2+3+4+5+\\\n",
    "6+7\n",
    "print(sum)"
   ]
  },
  {
   "cell_type": "code",
   "execution_count": 3,
   "id": "b67d9e96",
   "metadata": {},
   "outputs": [
    {
     "name": "stdout",
     "output_type": "stream",
     "text": [
      "5\n"
     ]
    }
   ],
   "source": [
    "# multiple statements in a single line\n",
    "\n",
    "x = 1; y = 4; z = x + y\n",
    "print(z)"
   ]
  },
  {
   "cell_type": "markdown",
   "id": "a44723e9",
   "metadata": {},
   "source": [
    "## Type inference and Dynamic typing"
   ]
  },
  {
   "cell_type": "code",
   "execution_count": null,
   "id": "0740a320",
   "metadata": {},
   "outputs": [],
   "source": [
    "## Type inference is when the language determines the type of a variable automatically from the value assigned,\n",
    "#  instead of you declaring it explicitly.\n",
    "# In Python: You don’t need to say int x = 5 like in Java or C.Instead x = 5.\n",
    "\n",
    "## Dynamic typing means the type of a variable is checked at runtime (while the program is running), not at compile time (before running).\n",
    "\n",
    "# In Python:\n",
    "# You don’t declare variable types explicitly.\n",
    "# A variable can be reassigned to values of different types without error:\n",
    "\n",
    "# a = 42       # int\n",
    "# a = 3.14     # now float\n",
    "# a = \"Python\" # now string\n",
    "\n",
    "### The type() function in Python is connected to dynamic typing, not type inference.###\n",
    "\n",
    "##type()\n",
    "\n",
    "# Returns the exact class of an object.\n",
    "\n",
    "# Useful when you want to know the precise type.\n",
    "\n",
    "# But it does not consider inheritance (subclasses).\n",
    "\n",
    "## isinstance()\n",
    "\n",
    "# Checks if an object is an instance of a given class or its subclasses.\n",
    "\n",
    "# More flexible and recommended in most cases."
   ]
  },
  {
   "cell_type": "markdown",
   "id": "a21f2237",
   "metadata": {},
   "source": [
    "## Variables/assign/declare"
   ]
  },
  {
   "cell_type": "code",
   "execution_count": null,
   "id": "c66cd538",
   "metadata": {},
   "outputs": [],
   "source": [
    "### Variables: when we create a variable we create a name/reference and assign it a value.\n",
    "#             The act of assigning is what creates the variable. i.e: x = 10 # variable is created and assigned\n",
    "\n",
    "### If you want to “declare first” and assign later, you can:\n",
    "\n",
    "## Assign a placeholder value like None:\n",
    "# x = None   # declared with a placeholder\n",
    " # later...\n",
    "# x = 42\n",
    "\n",
    "## Use type hints (Python 3.6+) with None:\n",
    "\n",
    "# x: int = None   # tells readers/tools x should be int, but not set yet\n",
    "# x = 42\n",
    "\n",
    "\n"
   ]
  },
  {
   "cell_type": "code",
   "execution_count": 4,
   "id": "22c2e8bd",
   "metadata": {},
   "outputs": [
    {
     "name": "stdout",
     "output_type": "stream",
     "text": [
      "Age: 25\n",
      "Name: UMER BIN ASIF\n",
      "Student: True\n",
      "Height 5.11\n"
     ]
    }
   ],
   "source": [
    "age = None \n",
    "name = \"UMER BIN ASIF\"\n",
    "height = 5.11\n",
    "is_student = True\n",
    "age = 25\n",
    "print(\"Age:\",age)\n",
    "print(f\"Name: {name}\")\n",
    "print(\"Student:\", is_student )\n",
    "print(\"Height\",height)\n"
   ]
  },
  {
   "cell_type": "markdown",
   "id": "ed21bec9",
   "metadata": {},
   "source": [
    "## Type casting"
   ]
  },
  {
   "cell_type": "code",
   "execution_count": null,
   "id": "b7ca3f64",
   "metadata": {},
   "outputs": [],
   "source": [
    "# 1. Implicit Type Conversion (Type Casting by Python)\n",
    "\n",
    "# Python automatically converts one data type to another when it’s safe.\n",
    "\n",
    "# This usually happens with numeric types.\n",
    "\n",
    "# Example:\n",
    "\n",
    "# x = 10      # int\n",
    "# y = 2.5     # float\n",
    "\n",
    "# z = x + y   # int + float → float\n",
    "# print(z)        # 12.5\n",
    "# print(type(z))  # <class 'float'>\n",
    "# Here Python “upcasts” int to float so no data is lost.\n",
    "#Upcasting = widening conversion\n",
    "\n",
    "\n",
    "# 🔹 2. Explicit Type Conversion (Type Casting by User)\n",
    "\n",
    "# Done using built-in functions.\n",
    "\n",
    "# You decide how to convert the value.\n",
    "\n",
    "# Common functions:\n",
    "\n",
    "# int() → converts to integer\n",
    "\n",
    "# float() → converts to float\n",
    "\n",
    "# str() → converts to string\n",
    "\n",
    "# list() → converts to list\n",
    "\n",
    "# tuple() → converts to tuple\n",
    "\n",
    "# set() → converts to set\n",
    "\n",
    "# dict() → converts to dictionary (with proper format)\n",
    "\n",
    "# Examples:\n",
    "\n",
    "# a = \"123\"\n",
    "# print(int(a))    # 123 (string → int)\n",
    "\n",
    "# b = 9.81\n",
    "# print(int(b))    # 9 (float → int, decimal truncated)\n",
    "\n",
    "# c = 42\n",
    "# print(str(c))    # \"42\" (int → string)\n",
    "# Downcasting = narrowing conversion"
   ]
  },
  {
   "cell_type": "code",
   "execution_count": null,
   "id": "b3bec97d",
   "metadata": {},
   "outputs": [
    {
     "name": "stdout",
     "output_type": "stream",
     "text": [
      "10 <class 'int'>\n",
      "10 10.0 <class 'int'>\n",
      "10 <class 'float'>\n"
     ]
    }
   ],
   "source": [
    "c = 10\n",
    "print(c,type(c))\n",
    "print(c,float(c),type(c))# 10 10.0 <class 'int'>\n",
    "print(c,type(float(c)))# 10 <class 'float'>"
   ]
  },
  {
   "cell_type": "markdown",
   "id": "e076bb4d",
   "metadata": {},
   "source": [
    "## Data types"
   ]
  },
  {
   "cell_type": "code",
   "execution_count": null,
   "id": "b2d552c4",
   "metadata": {},
   "outputs": [],
   "source": [
    "# A data type defines what kind of value a variable can hold and what operations can be performed on that value.\n",
    "# and amount of memory needed to store the value.\n",
    "\n",
    "# 🔹 Categories of Data Types in Python\n",
    "\n",
    "# Numeric types → int, float, complex\n",
    "\n",
    "# Text type → str\n",
    "\n",
    "# Boolean type → bool\n",
    "\n",
    "# Sequence types → list, tuple, range\n",
    "\n",
    "# Set types → set, frozenset\n",
    "\n",
    "# Mapping type → dict\n",
    "\n",
    "# None type → NoneType"
   ]
  },
  {
   "cell_type": "markdown",
   "id": "c1e1a4e7",
   "metadata": {},
   "source": [
    "## Primitive vs non-primitive data types"
   ]
  },
  {
   "cell_type": "code",
   "execution_count": null,
   "id": "4ae23c23",
   "metadata": {},
   "outputs": [],
   "source": [
    "# Primitive Data Types\n",
    "\n",
    "# These are the basic building blocks of data.\n",
    "# They represent a single value, not a collection.\n",
    "\n",
    "# In Python, the commonly considered primitive types are:\n",
    "\n",
    "# int → integers (e.g., 10, -5)\n",
    "\n",
    "# float → decimal numbers (e.g., 3.14)\n",
    "\n",
    "# bool → boolean values (True, False)\n",
    "\n",
    "# str → strings (text like \"hello\")\n",
    "\n",
    "# 👉 They’re “primitive” because they’re simple and not composed of other types.\n",
    "\n",
    "# 🔹 Non-Primitive Data Types\n",
    "\n",
    "# These are derived / composite types that can store multiple values or are built from primitive types.\n",
    "\n",
    "# In Python, examples include:\n",
    "\n",
    "# Lists → list = [1, 2, 3]\n",
    "\n",
    "# Tuples → tuple = (1, 2, 3)\n",
    "\n",
    "# Sets → set = {1, 2, 3}\n",
    "\n",
    "# Dictionaries → dict = {\"a\": 1, \"b\": 2}\n",
    "\n",
    "# User-defined classes/objects\n",
    "\n",
    "# 👉 They’re “non-primitive” because they can hold multiple values and are often built from primitive data."
   ]
  },
  {
   "cell_type": "markdown",
   "id": "a4d40db2",
   "metadata": {},
   "source": [
    "## Operators in Python"
   ]
  },
  {
   "cell_type": "code",
   "execution_count": null,
   "id": "b0550bb8",
   "metadata": {},
   "outputs": [],
   "source": [
    "# 🔹 Operators in Python\n",
    "\n",
    "# Operators are symbols that perform operations on values or variables.\n",
    "\n",
    "# 1. Arithmetic Operators\n",
    "\n",
    "# Work with numbers (int, float, etc.).\n",
    "\n",
    "# x = 10\n",
    "# y = 3\n",
    "\n",
    "# print(x + y)   # 13 (addition)\n",
    "# print(x - y)   # 7  (subtraction)\n",
    "# print(x * y)   # 30 (multiplication)\n",
    "# print(x / y)   # 3.333... (division → float)\n",
    "# print(x // y)  # 3 (floor division → integer result)\n",
    "# print(x % y)   # 1 (modulus → remainder)\n",
    "# print(x ** y)  # 1000 (exponentiation → power)\n",
    "\n",
    "# 2. Comparison (Relational) Operators\n",
    "\n",
    "# Return True or False.\n",
    "\n",
    "# x = 5\n",
    "# y = 7\n",
    "\n",
    "# print(x == y)   # False\n",
    "# print(x != y)   # True\n",
    "# print(x > y)    # False\n",
    "# print(x < y)    # True\n",
    "# print(x >= y)   # False\n",
    "# print(x <= y)   # True\n",
    "\n",
    "# 3. Logical Operators\n",
    "\n",
    "# Work with boolean values.\n",
    "\n",
    "# a = True\n",
    "# b = False\n",
    "\n",
    "# print(a and b)  # False\n",
    "# print(a or b)   # True\n",
    "# print(not a)    # False\n",
    "\n",
    "# 4. Assignment Operators\n",
    "\n",
    "# Used to assign values.\n",
    "\n",
    "# x = 10\n",
    "# x += 5   # x = x + 5 → 15\n",
    "# x -= 3   # x = x - 3 → 12\n",
    "# x *= 2   # x = x * 2 → 24\n",
    "# x /= 4   # x = x / 4 → 6.0\n",
    "# x %= 5   # x = x % 5 → 1.0\n",
    "# x **= 3  # x = x ** 3\n",
    "# x //= 2  # x = x // 2\n",
    "\n",
    "# 5. Bitwise Operators\n",
    "\n",
    "# Work at the binary level.\n",
    "\n",
    "# x = 6   # (110 in binary)\n",
    "# y = 3   # (011 in binary)\n",
    "\n",
    "# print(x & y)   # 2  (AND → 010)\n",
    "# print(x | y)   # 7  (OR → 111)\n",
    "# print(x ^ y)   # 5  (XOR → 101)\n",
    "# print(~x)      # -7 (NOT → flips bits)\n",
    "# print(x << 1)  # 12 (left shift → 1100)\n",
    "# print(x >> 1)  # 3  (right shift → 011)\n",
    "\n",
    "# 6. Membership Operators\n",
    "\n",
    "# Check for presence inside sequences.\n",
    "\n",
    "# name = \"python\"\n",
    "\n",
    "# print(\"p\" in name)     # True\n",
    "# print(\"z\" not in name) # True\n",
    "\n",
    "# 7. Identity Operators\n",
    "\n",
    "# Check if two variables point to the same object (memory).\n",
    "\n",
    "# a = [1, 2, 3]\n",
    "# b = a\n",
    "# c = [1, 2, 3]\n",
    "\n",
    "# print(a is b)   # True  (same object)\n",
    "# print(a is c)   # False (different objects with same content)\n",
    "# print(a == c)   # True  (same values)\n",
    "\n",
    "\n",
    "# ✅ Summary:\n",
    "\n",
    "# Arithmetic → +, -, *, /, %, //, **\n",
    "\n",
    "# Comparison → ==, !=, >, <, >=, <=\n",
    "\n",
    "# Logical → and, or, not\n",
    "\n",
    "# Assignment → =, +=, -=, etc.\n",
    "\n",
    "# Bitwise → &, |, ^, ~, <<, >>\n",
    "\n",
    "# Membership → in, not in\n",
    "\n",
    "# Identity → is, is not"
   ]
  },
  {
   "cell_type": "markdown",
   "id": "bb7b36fe",
   "metadata": {},
   "source": [
    "## Bitwise Operator dive-in"
   ]
  },
  {
   "cell_type": "code",
   "execution_count": null,
   "id": "86165222",
   "metadata": {},
   "outputs": [],
   "source": [
    "# 🔹 What are Bitwise Operators?\n",
    "\n",
    "# They work bit by bit (0s and 1s) on numbers.\n",
    "\n",
    "# Numbers are stored in binary (base 2).\n",
    "\n",
    "# Bitwise operators manipulate these binary digits directly.\n",
    "\n",
    "# Example:\n",
    "\n",
    "# x = 6   # binary: 110\n",
    "# y = 3   # binary: 011\n",
    "\n",
    "# 🔹 1. AND (&)\n",
    "\n",
    "# Compares bits of two numbers.\n",
    "\n",
    "# Rule: 1 & 1 = 1, otherwise 0.\n",
    "\n",
    "#    x = 110 (6)\n",
    "#    y = 011 (3)\n",
    "#    ------------\n",
    "#    x & y = 010 (2)\n",
    "\n",
    "# print(6 & 3)  # 2\n",
    "\n",
    "# 🔹 2. OR (|)\n",
    "\n",
    "# Rule: 1 | 1 = 1, 1 | 0 = 1, 0 | 0 = 0.\n",
    "\n",
    "#    x = 110 (6)\n",
    "#    y = 011 (3)\n",
    "#    ------------\n",
    "#    x | y = 111 (7)\n",
    "\n",
    "# print(6 | 3)  # 7\n",
    "\n",
    "# 🔹 3. XOR (^) (Exclusive OR)\n",
    "\n",
    "# Rule: 1 ^ 0 = 1, 0 ^ 1 = 1, but 1 ^ 1 = 0.\n",
    "\n",
    "#    x = 110 (6)\n",
    "#    y = 011 (3)\n",
    "#    ------------\n",
    "#    x ^ y = 101 (5)\n",
    "\n",
    "# print(6 ^ 3)  # 5\n",
    "\n",
    "# 🔹 4. NOT (~)\n",
    "\n",
    "# Flips the bits (0 → 1, 1 → 0).\n",
    "\n",
    "# But Python uses signed integers (two’s complement), so result looks “weird” at first.\n",
    "\n",
    "#  x =  6  → binary:  000...0110\n",
    "# ~x = -7  → binary:  111...1001\n",
    "\n",
    "# print(~6)  # -7 #so not inverts binary sequence of of given number resulting in another number\n",
    "\n",
    "# 🔹 5. Left Shift (<<)\n",
    "\n",
    "# Shifts bits to the left (adds 0s on the right).\n",
    "\n",
    "# Equivalent to multiplying by 2^n.\n",
    "\n",
    "# x = 6 → binary: 110\n",
    "# x << 1 → 1100 (12)   # shift left by 1\n",
    "# x << 2 → 11000 (24)  # shift left by 2\n",
    "\n",
    "# print(6 << 1)  # 12\n",
    "\n",
    "# 🔹 6. Right Shift (>>)\n",
    "\n",
    "# Shifts bits to the right (drops bits on the right).\n",
    "\n",
    "# Equivalent to integer division by 2^n.\n",
    "\n",
    "# x = 6 → binary: 110\n",
    "# x >> 1 → 11 (3)   # shift right by 1\n",
    "# x >> 2 → 1 (1)    # shift right by 2\n",
    "\n",
    "# print(6 >> 1)  # 3"
   ]
  },
  {
   "cell_type": "markdown",
   "id": "51a7def8",
   "metadata": {},
   "source": [
    "## Deep dive into left and right shift"
   ]
  },
  {
   "cell_type": "code",
   "execution_count": null,
   "id": "11da5afc",
   "metadata": {},
   "outputs": [],
   "source": [
    "# 🔹 Left Shift (<<)\n",
    "\n",
    "# 👉 Moves all bits to the left by n positions.\n",
    "# 👉 Fills empty places on the right with 0s.\n",
    "# 👉 Equivalent to multiplying the number by 2^n.\n",
    "\n",
    "# Example:\n",
    "\n",
    "# x = 6       # binary: 110\n",
    "# print(x << 1)  # shift left by 1 → 1100 (12)\n",
    "# print(x << 2)  # shift left by 2 → 11000 (24)\n",
    "\n",
    "\n",
    "# Binary step for 6 << 1:\n",
    "\n",
    "#    6 = 00000110\n",
    "# << 1 = 00001100   (12 in decimal)\n",
    "\n",
    "# 🔹 Right Shift (>>)\n",
    "\n",
    "# 👉 Moves all bits to the right by n positions.\n",
    "# 👉 Drops the rightmost bits.\n",
    "# 👉 Equivalent to floor division by 2^n.\n",
    "\n",
    "# Example:\n",
    "\n",
    "# x = 6       # binary: 110\n",
    "# print(x >> 1)  # shift right by 1 → 11 (3)\n",
    "# print(x >> 2)  # shift right by 2 → 1  (1)\n",
    "\n",
    "\n",
    "# Left shift always adds zeros → value gets bigger.\n",
    "\n",
    "# Right shift always drops bits → value gets smaller.\n",
    "\n",
    "\n",
    "### in shifting, n can be any non-negative integer (it tells Python how many positions to shift).\n",
    "# n must be ≥ 0 → shifting by a negative number raises an error.\n",
    "# Left shift → number grows huge (Python can handle big ints).\n",
    "\n",
    "# Right shift → eventually drops everything → 0.\n"
   ]
  }
 ],
 "metadata": {
  "kernelspec": {
   "display_name": "Python 3",
   "language": "python",
   "name": "python3"
  },
  "language_info": {
   "codemirror_mode": {
    "name": "ipython",
    "version": 3
   },
   "file_extension": ".py",
   "mimetype": "text/x-python",
   "name": "python",
   "nbconvert_exporter": "python",
   "pygments_lexer": "ipython3",
   "version": "3.12.11"
  }
 },
 "nbformat": 4,
 "nbformat_minor": 5
}
