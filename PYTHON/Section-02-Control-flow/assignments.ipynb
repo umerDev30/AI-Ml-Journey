{
 "cells": [
  {
   "cell_type": "markdown",
   "metadata": {},
   "source": [
    "# Module 2: Control Flow Assignments\n",
    "## Lesson 2.1: Conditional Statements\n",
    "### Assignment 1: Simple if Statement\n",
    "\n",
    "Write a program that asks the user to input a number and prints whether the number is positive.\n",
    "\n",
    "### Assignment 2: if-else Statement\n",
    "\n",
    "Write a program that asks the user to input a number and prints whether the number is positive or negative.\n",
    "\n",
    "### Assignment 3: if-elif-else Statement\n",
    "\n",
    "Write a program that asks the user to input a number and prints whether the number is positive, negative, or zero.\n",
    "\n",
    "### Assignment 4: Nested if Statement\n",
    "\n",
    "Write a program that asks the user to input a number and prints whether the number is positive and even, positive and odd, or negative.\n",
    "\n",
    "## Lesson 2.2: Loops\n",
    "### Assignment 5: for Loop\n",
    "\n",
    "Write a program that prints all the numbers from 1 to 10 using a for loop.\n",
    "\n",
    "### Assignment 6: while Loop\n",
    "\n",
    "Write a program that prints all the numbers from 1 to 10 using a while loop.\n",
    "\n",
    "### Assignment 7: Nested Loops\n",
    "\n",
    "Write a program that prints a 5x5 grid of asterisks (*) using nested loops.\n",
    "\n",
    "### Assignment 8: break Statement\n",
    "\n",
    "Write a program that asks the user to input numbers until they input 0. The program should print the sum of all the input numbers.\n",
    "\n",
    "### Assignment 9: continue Statement\n",
    "\n",
    "Write a program that prints all the numbers from 1 to 10 except 5 using a for loop and continue statement.\n",
    "\n",
    "### Assignment 10: pass Statement\n",
    "\n",
    "Write a program that defines an empty function using the pass statement.\n",
    "\n",
    "### Assignment 11: Combining Loops and Conditionals\n",
    "\n",
    "Write a program that asks the user to input a number and prints all the even numbers from 1 to that number using a for loop.\n",
    "\n",
    "### Assignment 12: Factorial Calculation\n",
    "\n",
    "Write a program that calculates the factorial of a number input by the user using a while loop.\n",
    "\n",
    "### Assignment 13: Sum of Digits\n",
    "\n",
    "Write a program that calculates the sum of the digits of a number input by the user using a while loop.\n",
    "\n",
    "### Assignment 14: Prime Number Check\n",
    "\n",
    "Write a program that checks if a number input by the user is a prime number using a for loop.\n",
    "\n",
    "### Assignment 15: Fibonacci Sequence\n",
    "\n",
    "Write a program that prints the first n Fibonacci numbers, where n is input by the user."
   ]
  },
  {
   "cell_type": "code",
   "execution_count": 2,
   "metadata": {},
   "outputs": [],
   "source": [
    "# Q1\n",
    " \n",
    "try:\n",
    " num = int(input(\"Enter a number: \"))\n",
    "\n",
    "except ValueError:\n",
    " print(\"Please enter valid number!!\")\n",
    " exit()\n",
    "\n",
    "if num > 0:\n",
    " print(f\"{num} is a positive number.\")\n"
   ]
  },
  {
   "cell_type": "code",
   "execution_count": null,
   "id": "985cb358",
   "metadata": {},
   "outputs": [],
   "source": [
    "# Q2\n",
    " \n",
    "try:\n",
    " num = int(input(\"Enter a number: \"))\n",
    "\n",
    "except ValueError:\n",
    " print(\"Please enter valid number!!\")\n",
    " exit()\n",
    "\n",
    "if num > 0:\n",
    " print(f\"{num} is a positive number.\")\n",
    "else:\n",
    "   print(f\"{num} is a negative number.\")"
   ]
  },
  {
   "cell_type": "code",
   "execution_count": null,
   "id": "ecd52968",
   "metadata": {},
   "outputs": [],
   "source": [
    "# Q3\n",
    " \n",
    "try:\n",
    " num = int(input(\"Enter a number: \"))\n",
    "\n",
    "except ValueError:\n",
    " print(\"Please enter valid number!!\")\n",
    " exit()\n",
    "\n",
    "if num > 0:\n",
    " print(f\"{num} is a positive number.\")\n",
    "elif num < 0:\n",
    "   print(f\"{num} is a negative number.\")\n",
    "else:\n",
    "  print(\"It is zero\")   "
   ]
  },
  {
   "cell_type": "code",
   "execution_count": 8,
   "id": "467aba56",
   "metadata": {},
   "outputs": [
    {
     "name": "stdout",
     "output_type": "stream",
     "text": [
      "-5 is a negative number.\n"
     ]
    }
   ],
   "source": [
    "# Q4\n",
    " \n",
    "try:\n",
    " num = int(input(\"Enter a number: \"))\n",
    "\n",
    "except ValueError:\n",
    " print(\"Please enter valid number!!\")\n",
    " exit()\n",
    "\n",
    "if num > 0:\n",
    " if num % 2 == 0:\n",
    "  print(f\"{num} is a positive and even number.\")\n",
    " else:\n",
    "  print(f\"{num} is a positive and odd number.\")\n",
    "else:\n",
    "  print(f\"{num} is a negative number.\")"
   ]
  },
  {
   "cell_type": "code",
   "execution_count": null,
   "id": "4dbe9cfa",
   "metadata": {},
   "outputs": [
    {
     "name": "stdout",
     "output_type": "stream",
     "text": [
      "1\n",
      "2\n",
      "3\n",
      "4\n",
      "5\n",
      "6\n",
      "7\n",
      "8\n",
      "9\n",
      "10\n"
     ]
    }
   ],
   "source": [
    "# Q 5\n",
    "for i in range(1,10 +1 ):\n",
    "    print(i)"
   ]
  },
  {
   "cell_type": "code",
   "execution_count": null,
   "id": "715f6466",
   "metadata": {},
   "outputs": [
    {
     "name": "stdout",
     "output_type": "stream",
     "text": [
      "1\n",
      "2\n",
      "3\n",
      "4\n",
      "5\n",
      "6\n",
      "7\n",
      "8\n",
      "9\n",
      "10\n"
     ]
    }
   ],
   "source": [
    "# Q6\n",
    "i = 1\n",
    "while i < 10  + 1:\n",
    "    print(i)\n",
    "    i = i + 1"
   ]
  },
  {
   "cell_type": "code",
   "execution_count": null,
   "id": "c89f8726",
   "metadata": {},
   "outputs": [
    {
     "name": "stdout",
     "output_type": "stream",
     "text": [
      "* * * * *  \n",
      "* * * * *  \n",
      "* * * * *  \n",
      "* * * * *  \n",
      "* * * * *  \n"
     ]
    }
   ],
   "source": [
    "# Q7\n",
    "for i in range(1,6):\n",
    "    for j in range(1,6):\n",
    "        print(\"*\", end= \" \")\n",
    "    print(\" \")    \n",
    "      \n",
    "\n",
    "# Runs 5 times (j = 1 → 5).\n",
    "# Each time prints * with a space, but stays on the same line (end=\" \" prevents line break).\n",
    "# So after inner loop, you have:\n",
    "# * * * * * \n",
    "# Then print(\" \")\n",
    "# Prints a single space \" \" and then adds a newline (because print() always ends with a newline unless you override end).      "
   ]
  },
  {
   "cell_type": "code",
   "execution_count": null,
   "id": "3749a702",
   "metadata": {},
   "outputs": [
    {
     "name": "stdout",
     "output_type": "stream",
     "text": [
      "6\n"
     ]
    }
   ],
   "source": [
    "# Q8\n",
    "x = int(input(\"Enter number (0 to stop): \")) \n",
    "total = 0\n",
    "while x != 0: \n",
    "    total = total + x # add x before overide\n",
    "    x = int(input(\"Enter number (0 to stop): \"))  \n",
    "print(total)   \n",
    "## the loop is input-controlled, not counter-controlled.so No i initialization, No i in condition, No i increment. "
   ]
  },
  {
   "cell_type": "code",
   "execution_count": null,
   "id": "6dd2efd4",
   "metadata": {},
   "outputs": [
    {
     "name": "stdout",
     "output_type": "stream",
     "text": [
      "1\n",
      "2\n",
      "3\n",
      "4\n",
      "6\n",
      "7\n",
      "8\n",
      "9\n",
      "10\n"
     ]
    }
   ],
   "source": [
    "# Q9\n",
    "\n",
    "for i in range(1,10 + 1):\n",
    "    if i == 5:\n",
    "        continue\n",
    "    print(i)"
   ]
  },
  {
   "cell_type": "code",
   "execution_count": null,
   "id": "213bdd04",
   "metadata": {},
   "outputs": [],
   "source": [
    "# Q 10\n",
    "for i in range(8):\n",
    "    pass\n",
    "def hy():\n",
    "    pass\n",
    "if True:\n",
    "    pass\n"
   ]
  },
  {
   "cell_type": "code",
   "execution_count": null,
   "id": "5f9ab7e1",
   "metadata": {},
   "outputs": [
    {
     "name": "stdout",
     "output_type": "stream",
     "text": [
      "15\n"
     ]
    }
   ],
   "source": [
    "# Q 11\n",
    "\n",
    "num = int(input(\"Enter a number: \"))\n",
    "for i in range(1,num + 1):\n",
    "    if i % 2 == 0:\n",
    "      print(i)\n",
    "    "
   ]
  },
  {
   "cell_type": "code",
   "execution_count": null,
   "id": "8a7c21ce",
   "metadata": {},
   "outputs": [
    {
     "name": "stdout",
     "output_type": "stream",
     "text": [
      "120\n"
     ]
    }
   ],
   "source": [
    "# Q 12\n",
    "num = int(input(\"Enter a number: \"))\n",
    "fact = 1\n",
    "i = 1\n",
    "while i < num + 1:\n",
    "    fact = fact*i\n",
    "    i = i +1\n",
    "print(fact)\n",
    "\n",
    "# i = 0?\n",
    "# Then the very first multiplication is:\n",
    "# fact = 1 × 0 = 0\n",
    "# Once fact becomes 0, multiplying by anything after that will always stay 0. ❌\n",
    "# So you’ll always get 0 as the result if i = 0."
   ]
  },
  {
   "cell_type": "code",
   "execution_count": null,
   "id": "81d16561",
   "metadata": {},
   "outputs": [
    {
     "name": "stdout",
     "output_type": "stream",
     "text": [
      "15\n"
     ]
    }
   ],
   "source": [
    "# Q 13\n",
    "\n",
    "num = int(input(\"Enter a number: \"))\n",
    "total = 0\n",
    "while num > 0:\n",
    "    digit = num % 10       # get the last digit\n",
    "    total = total + digit  # add digit to total\n",
    "    num = num // 10        # remove the last digit\n",
    "print(total)    "
   ]
  },
  {
   "cell_type": "code",
   "execution_count": null,
   "id": "6025b669",
   "metadata": {},
   "outputs": [
    {
     "name": "stdout",
     "output_type": "stream",
     "text": [
      "3  is a prime number\n"
     ]
    }
   ],
   "source": [
    "# Q 14\n",
    "\n",
    "num = int(input(\"Enter a number: \"))\n",
    "\n",
    "if num > 1:\n",
    " for i in range(2,num):\n",
    "      if num % i == 0:\n",
    "         print(\"It i not a prime number\")\n",
    "         break\n",
    " else:\n",
    "   print(num,\" is a prime number\")      \n",
    " # else: (aligned with for, not if) → runs only if the loop completes without a break (i.e., no divisors found)."
   ]
  },
  {
   "cell_type": "code",
   "execution_count": null,
   "id": "0ce90d36",
   "metadata": {},
   "outputs": [
    {
     "name": "stdout",
     "output_type": "stream",
     "text": [
      "0\n",
      "1\n",
      "1\n",
      "2\n",
      "3\n"
     ]
    }
   ],
   "source": [
    "# Q 15\n",
    "\n",
    "num = int(input(\"Enter a number: \"))\n",
    "a,b = 0,1\n",
    "i = 1\n",
    "while i <= num:\n",
    "    print(a)\n",
    "    a,b = b, a + b\n",
    "    i = i + 1\n"
   ]
  }
 ],
 "metadata": {
  "kernelspec": {
   "display_name": "Python 3",
   "language": "python",
   "name": "python3"
  },
  "language_info": {
   "codemirror_mode": {
    "name": "ipython",
    "version": 3
   },
   "file_extension": ".py",
   "mimetype": "text/x-python",
   "name": "python",
   "nbconvert_exporter": "python",
   "pygments_lexer": "ipython3",
   "version": "3.12.11"
  }
 },
 "nbformat": 4,
 "nbformat_minor": 5
}
