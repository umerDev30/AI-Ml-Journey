{
 "cells": [
  {
   "cell_type": "code",
   "execution_count": 14,
   "id": "024bcebc",
   "metadata": {},
   "outputs": [
    {
     "name": "stdout",
     "output_type": "stream",
     "text": [
      "0\n",
      "3\n",
      "6\n",
      "9\n"
     ]
    }
   ],
   "source": [
    "\n",
    "for i in range(0,10,3):\n",
    "    print(i)"
   ]
  },
  {
   "cell_type": "code",
   "execution_count": null,
   "id": "d60b126b",
   "metadata": {},
   "outputs": [
    {
     "name": "stdout",
     "output_type": "stream",
     "text": [
      "10\n",
      "9\n",
      "8\n",
      "7\n",
      "6\n",
      "5\n",
      "4\n",
      "3\n",
      "2\n",
      "1\n"
     ]
    }
   ],
   "source": [
    "\n",
    "for i in range(10,0,-1):\n",
    "    print(i)\n",
    "    #reverse for loop"
   ]
  },
  {
   "cell_type": "code",
   "execution_count": 18,
   "id": "af72eaf0",
   "metadata": {},
   "outputs": [
    {
     "name": "stdout",
     "output_type": "stream",
     "text": [
      "U\n",
      "M\n",
      "E\n",
      "R\n",
      " \n",
      "B\n",
      "I\n",
      "N\n",
      " \n",
      "A\n",
      "S\n",
      "I\n",
      "F\n"
     ]
    }
   ],
   "source": [
    "name = \"UMER BIN ASIF\"\n",
    "for i in name:\n",
    "    print(i) \n",
    "    #iteration over a string"
   ]
  },
  {
   "cell_type": "code",
   "execution_count": 20,
   "id": "390d37e8",
   "metadata": {},
   "outputs": [
    {
     "name": "stdout",
     "output_type": "stream",
     "text": [
      "0\n",
      "1\n",
      "2\n",
      "3\n",
      "4\n",
      "5\n"
     ]
    }
   ],
   "source": [
    "# while loop\n",
    "i = 0\n",
    "while i <= 5:\n",
    "    print(i)\n",
    "    i = i + 1"
   ]
  },
  {
   "cell_type": "code",
   "execution_count": 21,
   "id": "823e9ce6",
   "metadata": {},
   "outputs": [
    {
     "name": "stdout",
     "output_type": "stream",
     "text": [
      "0\n"
     ]
    }
   ],
   "source": [
    "# while loop\n",
    "i = 0\n",
    "while i % 2 == 0:\n",
    "    print(i)\n",
    "    i = i + 1"
   ]
  },
  {
   "cell_type": "code",
   "execution_count": null,
   "id": "e253c4af",
   "metadata": {},
   "outputs": [
    {
     "name": "stdout",
     "output_type": "stream",
     "text": [
      "1\n",
      "2\n",
      "4\n",
      "5\n"
     ]
    }
   ],
   "source": [
    "# while loop\n",
    "i = 0\n",
    "while i < 5:\n",
    "    i = i + 1\n",
    "    if i == 3:\n",
    "        continue\n",
    "    print(i)  \n",
    "\n",
    "# When i == 3:\n",
    "\n",
    "# The if condition is true.\n",
    "\n",
    "# continue is executed.\n",
    "\n",
    "# Everything after it (in this case, print(i))is ignored.\n",
    "\n",
    "# Control jumps back to the start of the while loop.\n",
    "\n"
   ]
  },
  {
   "cell_type": "code",
   "execution_count": null,
   "id": "cdbc580c",
   "metadata": {},
   "outputs": [],
   "source": [
    "## i = 0\n",
    "## while i < 10:\n",
    "##     if i == 3:\n",
    "##         continue\n",
    "##     print(i)\n",
    "##     i = i + 1\n",
    "\n",
    "### What happens when i == 3:\n",
    "\n",
    "# The if i == 3 condition becomes True.\n",
    "\n",
    "# The continue statement is executed.\n",
    "\n",
    "# Everything below continue is skipped, including print(i) and i = i + 1.\n",
    "\n",
    "# So i is not incremented, and it stays at 3.\n",
    "\n",
    "# The loop restarts with i == 3 again, so it hits continue again.\n",
    "\n",
    "# This repeats forever, resulting in an infinite loop."
   ]
  },
  {
   "cell_type": "code",
   "execution_count": null,
   "id": "9649919f",
   "metadata": {},
   "outputs": [
    {
     "name": "stdout",
     "output_type": "stream",
     "text": [
      "0\n",
      "1\n",
      "2\n",
      "3\n",
      "4\n"
     ]
    }
   ],
   "source": [
    "## loop control statements\n",
    "## break\n",
    "## continue\n",
    "## pass\n",
    "\n",
    "## 🔁 break vs pass vs continue (quick comparison):\n",
    "\n",
    "## Statement\tWhat it does\n",
    "## break\t    Exits the loop immediately\n",
    "## continue\t    Skips current iteration, goes to the next one\n",
    "## pass\t        Does nothing — just a placeholder\n",
    "\n",
    "#break\n",
    "for i in range(10):\n",
    "    if i == 5:\n",
    "        break\n",
    "    print(i) "
   ]
  },
  {
   "cell_type": "code",
   "execution_count": null,
   "id": "8535d8cf",
   "metadata": {},
   "outputs": [
    {
     "name": "stdout",
     "output_type": "stream",
     "text": [
      "i = 0\n",
      "i = 1\n",
      "i = 2\n",
      "Breaking the loop at i = 3\n",
      "Loop ended\n"
     ]
    }
   ],
   "source": [
    "for i in range(5):\n",
    "    if i == 3:\n",
    "        print(\"Breaking the loop at i =\", i)\n",
    "        break\n",
    "    print(\"i =\", i)\n",
    "\n",
    "print(\"Loop ended\")\n",
    "#The loop starts from i = 0.\n",
    "\n",
    "#It continues until i == 3.\n",
    "\n",
    "#When it hits break, the loop stops immediately.\n",
    "\n",
    "#It then jumps to the print(\"Loop ended\") line — outside the loop.\n"
   ]
  },
  {
   "cell_type": "code",
   "execution_count": 30,
   "id": "7afc3873",
   "metadata": {},
   "outputs": [
    {
     "name": "stdout",
     "output_type": "stream",
     "text": [
      "1\n",
      "2\n",
      "3\n",
      "4\n",
      "6\n",
      "7\n",
      "8\n",
      "9\n",
      "Loop ended\n"
     ]
    }
   ],
   "source": [
    "#continue\n",
    "\n",
    "for i in range(1,10):\n",
    "    if i == 5:\n",
    "        continue\n",
    "    print(i)\n",
    "print(\"Loop ended\")    "
   ]
  },
  {
   "cell_type": "code",
   "execution_count": null,
   "id": "f7f6b5a4",
   "metadata": {},
   "outputs": [],
   "source": [
    "# What is pass?\n",
    "# The pass statement is a placeholder. It does nothing — it’s used when Python requires a statement \n",
    "# but you don’t want any action to happen (yet).\n",
    "\n",
    "#  Why use pass?\n",
    "# To define empty functions, loops, or conditionals while you're still working on the code.\n",
    "\n",
    "# It helps avoid syntax errors.\n",
    "\n"
   ]
  },
  {
   "cell_type": "code",
   "execution_count": null,
   "id": "76990078",
   "metadata": {},
   "outputs": [
    {
     "name": "stdout",
     "output_type": "stream",
     "text": [
      "Code still runs.\n"
     ]
    }
   ],
   "source": [
    "# ex 1: Empty if block\n",
    "\n",
    "x = 10\n",
    "\n",
    "if x > 5:\n",
    "    pass  # we'll write logic later\n",
    "\n",
    "print(\"Code still runs.\")\n",
    "\n",
    "# Without pass, Python would raise an IndentationError, because an if block must contain something.\n",
    "\n"
   ]
  },
  {
   "cell_type": "code",
   "execution_count": null,
   "id": "94957613",
   "metadata": {},
   "outputs": [],
   "source": [
    "# ex 2: Placeholder function\n",
    "\n",
    "def future_feature():\n",
    "     pass  # TODO: implement later"
   ]
  },
  {
   "cell_type": "code",
   "execution_count": null,
   "id": "b73bab87",
   "metadata": {},
   "outputs": [],
   "source": [
    "# ex 3: for loop with no action\n",
    "\n",
    "for i in range(5):\n",
    "    pass  # Loop exists for structure, but does nothing"
   ]
  },
  {
   "cell_type": "code",
   "execution_count": null,
   "id": "b1293507",
   "metadata": {},
   "outputs": [
    {
     "name": "stdout",
     "output_type": "stream",
     "text": [
      "0 and 0\n",
      "0 and 1\n",
      "hh\n",
      "1 and 0\n",
      "1 and 1\n",
      "hh\n",
      "2 and 0\n",
      "2 and 1\n",
      "hh\n"
     ]
    }
   ],
   "source": [
    "# nested for loop\n",
    "\n",
    "for i in range(3):\n",
    "    for j in range(2):\n",
    "        print(f\"{i} and {j}\")\n",
    "    print(\"hh\")  "
   ]
  },
  {
   "cell_type": "code",
   "execution_count": null,
   "id": "fc113dc7",
   "metadata": {},
   "outputs": [
    {
     "name": "stdout",
     "output_type": "stream",
     "text": [
      "55\n"
     ]
    }
   ],
   "source": [
    "n = 10       # We want the sum of the first 10 natural numbers\n",
    "sum = 0      # Initialize sum to 0\n",
    "i = 1        # Start from 1\n",
    "\n",
    "while i <= n:         # Run loop until i reaches n (inclusive)\n",
    "    sum = sum + i     # Add current i to the total sum\n",
    "    i = i + 1         # Increment i for the next number\n",
    "\n",
    "print(sum)            # Print the final result\n"
   ]
  },
  {
   "cell_type": "code",
   "execution_count": 50,
   "id": "44dca559",
   "metadata": {},
   "outputs": [
    {
     "name": "stdout",
     "output_type": "stream",
     "text": [
      "55\n"
     ]
    }
   ],
   "source": [
    "n = 10\n",
    "sum = n * (n + 1) // 2\n",
    "print(sum)\n",
    "#This is much faster for large n, especially when you're not using loops.\n",
    "\n"
   ]
  },
  {
   "cell_type": "code",
   "execution_count": 49,
   "id": "a6371a4a",
   "metadata": {},
   "outputs": [
    {
     "name": "stdout",
     "output_type": "stream",
     "text": [
      "55\n"
     ]
    }
   ],
   "source": [
    "\n",
    "sum = 0\n",
    "for i in range(1,11):\n",
    "    sum = sum+i\n",
    "print(sum)     "
   ]
  },
  {
   "cell_type": "code",
   "execution_count": null,
   "id": "4e6d1e48",
   "metadata": {},
   "outputs": [
    {
     "name": "stdout",
     "output_type": "stream",
     "text": [
      "2\n",
      "3\n",
      "5\n",
      "7\n",
      "11\n",
      "13\n",
      "17\n",
      "19\n"
     ]
    }
   ],
   "source": [
    "for i in range(2, 50):       # 1) Loop i from 2 → 49\n",
    "    for j in range(2, i):    # 2) Try divisors from 2 → i-1\n",
    "        if i % j == 0:       # 3) If i is divisible by j\n",
    "            break            #    → i is NOT prime → stop checking\n",
    "    else:                    # 4) If inner loop didn't break\n",
    "        print(i)             #    → i IS prime → print it\n"
   ]
  }
 ],
 "metadata": {
  "kernelspec": {
   "display_name": "Python 3",
   "language": "python",
   "name": "python3"
  },
  "language_info": {
   "codemirror_mode": {
    "name": "ipython",
    "version": 3
   },
   "file_extension": ".py",
   "mimetype": "text/x-python",
   "name": "python",
   "nbconvert_exporter": "python",
   "pygments_lexer": "ipython3",
   "version": "3.12.11"
  }
 },
 "nbformat": 4,
 "nbformat_minor": 5
}
