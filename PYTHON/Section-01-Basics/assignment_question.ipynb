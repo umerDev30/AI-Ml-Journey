{
 "cells": [
  {
   "cell_type": "markdown",
   "metadata": {},
   "source": [
    "# Lesson 1.2: Python Basics\n",
    "## Topics Covered:\n",
    "- Syntax and Semantics\n",
    "- Variables and Data Types\n",
    "- Basic Operators (Arithmetic, Comparison, Logical)\n"
   ]
  },
  {
   "cell_type": "markdown",
   "metadata": {},
   "source": [
    "## 1. Syntax and Semantics\n",
    "\n",
    "**Question 1:** Write a Python program to print \"Hello, World!\"."
   ]
  },
  {
   "cell_type": "code",
   "execution_count": 1,
   "metadata": {},
   "outputs": [
    {
     "name": "stdout",
     "output_type": "stream",
     "text": [
      "Hello, World!\n"
     ]
    }
   ],
   "source": [
    "# Your code here\n",
    "print(\"Hello, World!\")"
   ]
  },
  {
   "cell_type": "markdown",
   "metadata": {},
   "source": [
    "**Question 2:** Write a Python program that takes a user input and prints it."
   ]
  },
  {
   "cell_type": "code",
   "execution_count": 4,
   "metadata": {},
   "outputs": [
    {
     "name": "stdout",
     "output_type": "stream",
     "text": [
      "Hello Umer\n"
     ]
    }
   ],
   "source": [
    "# Your code here\n",
    "greetings = input(\"Please enter your name: \")\n",
    "print(\"Hello {}\".format(greetings))"
   ]
  },
  {
   "cell_type": "markdown",
   "metadata": {},
   "source": [
    "**Question 3:** Write a Python program to check if a number is positive, negative, or zero."
   ]
  },
  {
   "cell_type": "code",
   "execution_count": null,
   "metadata": {},
   "outputs": [
    {
     "name": "stdout",
     "output_type": "stream",
     "text": [
      "It's zero\n"
     ]
    }
   ],
   "source": [
    "# Your code here\n",
    "check = int(input(\"Enter a number: \"))\n",
    "if check > 0:\n",
    "    print(f\"{check} is a positive number\")\n",
    "elif check < 0:\n",
    "    print(f\"{check} is a negative number\")\n",
    "else: \n",
    "    print(\"It's zero\")        "
   ]
  },
  {
   "cell_type": "markdown",
   "metadata": {},
   "source": [
    "**Question 4:** Write a Python program to find the largest of three numbers."
   ]
  },
  {
   "cell_type": "code",
   "execution_count": null,
   "metadata": {},
   "outputs": [
    {
     "name": "stdout",
     "output_type": "stream",
     "text": [
      "24\n"
     ]
    }
   ],
   "source": [
    "# Your code here\n",
    "num1 = 24\n",
    "num2 = 8\n",
    "num3 = 6\n",
    "largest_num = None\n",
    "if num1 > num2 and num1 > num3:\n",
    "    largest_num = num1\n",
    "elif num2 > num1 and num2 > num3:\n",
    "    largest_num = num2\n",
    "else:\n",
    "    largest_num = num3\n",
    "print(largest_num)            "
   ]
  },
  {
   "cell_type": "markdown",
   "metadata": {},
   "source": [
    "**Question 5:** Write a Python program to calculate the factorial of a number."
   ]
  },
  {
   "cell_type": "code",
   "execution_count": null,
   "metadata": {},
   "outputs": [
    {
     "name": "stdout",
     "output_type": "stream",
     "text": [
      "120\n"
     ]
    }
   ],
   "source": [
    "# Your code here\n",
    "factorial = int(input(\"Enter a number: \"))\n",
    "fact = 1\n",
    "for i in range(1,factorial+1):\n",
    "    fact *= i\n",
    "print(fact)    \n",
    "# Loop 1: i is 1. fact becomes 1 * 1 = 1.\n",
    "# Loop 2: i is 2. fact becomes 1 * 2 = 2.\n",
    "# Loop 3: i is 3. fact becomes 2 * 3 = 6.\n",
    "# Loop 4: i is 4. fact becomes 6 * 4 = 24.\n",
    "# Loop 5: i is 5. fact becomes 24 * 5 = 120."
   ]
  },
  {
   "cell_type": "markdown",
   "metadata": {},
   "source": [
    "## 2. Variables and Data Types\n",
    "\n",
    "**Question 6:** Create variables of different data types: integer, float, string, and boolean. Print their values and types."
   ]
  },
  {
   "cell_type": "code",
   "execution_count": 23,
   "metadata": {},
   "outputs": [
    {
     "name": "stdout",
     "output_type": "stream",
     "text": [
      "Person's name is Jerry <class 'str'>\n",
      "Jerry age is 18 <class 'int'>\n",
      "Jerry Height is 5.11 <class 'float'>\n",
      "Is Jerry a student? True <class 'bool'>\n"
     ]
    }
   ],
   "source": [
    "# Your code here\n",
    "name = \"Jerry\"\n",
    "age = 18\n",
    "height = 5.11\n",
    "is_student = True\n",
    "print(f\"Person's name is\",name ,type(name))\n",
    "print(f\"{name} age is\",age ,type(age))\n",
    "print(f\"{name} Height is\",height, type(height))\n",
    "print(f\"Is {name} a student?\",is_student , type(is_student))"
   ]
  },
  {
   "cell_type": "markdown",
   "metadata": {},
   "source": [
    "**Question 7:** Write a Python program to swap the values of two variables."
   ]
  },
  {
   "cell_type": "code",
   "execution_count": null,
   "metadata": {},
   "outputs": [],
   "source": [
    "# Your code here\n",
    "a = 2\n",
    "b = 4\n",
    "temp = a\n",
    "a = b\n",
    "b = temp\n",
    "print(f\"{a}\")\n",
    "print(f\"{b}\")\n",
    "\n",
    "# Step 1: Initialize variable 'a' with value 2\n",
    "# Step 2: Initialize variable 'b' with value 4\n",
    "# Step 3: Store the value of 'a' in 'temp'\n",
    "# Step 4: Assign the value of 'b' to 'a'\n",
    "# Step 5: Assign the original value of 'a' (stored in 'temp') to 'b'\n",
    "# At this point, the values have been swapped:\n",
    "#     a = 4\n",
    "#     b = 2"
   ]
  },
  {
   "cell_type": "markdown",
   "metadata": {},
   "source": [
    "**Question 8:** Write a Python program to convert Celsius to Fahrenheit."
   ]
  },
  {
   "cell_type": "code",
   "execution_count": null,
   "metadata": {},
   "outputs": [
    {
     "name": "stdout",
     "output_type": "stream",
     "text": [
      "Temperature is 0.0°C\n"
     ]
    }
   ],
   "source": [
    "# Your code here\n",
    "try:\n",
    "    temperature = float(input(\"Enter temperature value: \"))  \n",
    "    unit = input(\"Enter unit (C/F): \").upper()\n",
    "except ValueError:\n",
    "    print(\"Please enter a valid number.\")\n",
    "    exit()\n",
    "\n",
    "if unit == \"C\":\n",
    "    temp = (temperature * 9/5) + 32\n",
    "    print(f\"Temperature is {temp}°F\")\n",
    "elif unit == \"F\":\n",
    "    temp = (temperature - 32) * 5/9  \n",
    "    print(f\"Temperature is {temp}°C\")                   \n",
    "else:\n",
    "    print(\"Invalid input\")\n",
    "\n",
    "## ValueError occurs when:\n",
    "# The function receives the right type of input\n",
    "# But the value is inappropriate for that type.   \n",
    "\n",
    "# 1. “The function receives the right type of input” \n",
    "# That means Python got the expected type.\n",
    "# Example:\n",
    "# int(\"123\")   # input is a string → correct type (int() expects str, bytes, or number)\n",
    "# ✅ Works fine → returns 123.\n",
    "# So here, the input is the right type (str), and it can be converted to an integer.\n",
    "\n",
    "# 2. “But the value is inappropriate for that type”\n",
    "# Even if the type is correct, sometimes the actual contents (value) are not valid for that conversion.\n",
    "# Example:\n",
    "# int(\"hello\")   # input is still a string → correct type\n",
    "# But \"hello\" cannot be interpreted as an integer → ❌ raises ValueError.\n",
    "\n",
    "# Other Examples in Python\n",
    "# float(\"3.14\")    # ✅ works → 3.14\n",
    "# float(\"three\")   # ❌ ValueError (string \"three\" can’t be a float)\n",
    "\n",
    "# list(\"abc\")      # ✅ works → ['a', 'b', 'c']\n",
    "# int([1, 2, 3])   # ❌ TypeError (wrong type, not even a string)\n",
    "\n",
    "# TypeError → wrong type given.\n",
    "# ValueError → correct type, but invalid value."
   ]
  },
  {
   "cell_type": "markdown",
   "metadata": {},
   "source": [
    "**Question 9:** Write a Python program to concatenate two strings."
   ]
  },
  {
   "cell_type": "code",
   "execution_count": null,
   "metadata": {},
   "outputs": [
    {
     "name": "stdout",
     "output_type": "stream",
     "text": [
      "Concatenated string : Harry Potter\n",
      "IloveMonday.\n"
     ]
    }
   ],
   "source": [
    "# Your code here\n",
    "# ex: 1\n",
    "first_name = \"Harry\"\n",
    "last_name = \"Potter\"\n",
    "full_name = first_name + \" \" + last_name\n",
    "print(full_name) # simple concatenation \n",
    "\n",
    "# Concatenation simply means joining things together end-to-end.\n",
    "# rules: Both operands must be strings.\n",
    "# Concatenation does not add spaces automatically.\n",
    "\n",
    "#ex: 2\n",
    "words = [\"I\",\"love\",\"Monday.\"]\n",
    "concatenated_string = \" \".join(words) # \" \" for spacing.\\this method used to concatenate elements from iterables\n",
    "print(concatenated_string)\n",
    "\n",
    "# ex: 3\n",
    "first_name = \"Harry\"\n",
    "last_name = \"Potter\"\n",
    "full_name = first_name + \" \" + last_name\n",
    "print(f\"Concatenated string : {full_name}\") # using f-string.\n",
    "#If mixing types, convert with str() or use f-strings."
   ]
  },
  {
   "cell_type": "markdown",
   "metadata": {},
   "source": [
    "**Question 10:** Write a Python program to check if a variable is of a specific data type."
   ]
  },
  {
   "cell_type": "code",
   "execution_count": null,
   "metadata": {},
   "outputs": [
    {
     "name": "stdout",
     "output_type": "stream",
     "text": [
      "<class 'int'>\n",
      "<class 'str'>\n",
      "<class 'float'>\n",
      "<class 'bool'>\n",
      "False\n",
      "True\n",
      "False\n",
      "True\n"
     ]
    }
   ],
   "source": [
    "# Your code here\n",
    "x = 3 ; y =\"u\"; z = 2.3 ; g = True\n",
    "\n",
    "print(type(x))\n",
    "print(type(y))\n",
    "print(type(z))\n",
    "print(type(g))\n",
    "\n",
    "print(isinstance(x,float))# isinstance is for specific type because, we specifying if it is this type return true else return false\n",
    "print(isinstance(y,str))\n",
    "print(isinstance(z,int))\n",
    "print(isinstance(g,bool))"
   ]
  },
  {
   "cell_type": "markdown",
   "metadata": {},
   "source": [
    "## 3. Basic Operators (Arithmetic, Comparison, Logical)\n",
    "\n",
    "**Question 11:** Write a Python program to perform arithmetic operations: addition, subtraction, multiplication, and division."
   ]
  },
  {
   "cell_type": "code",
   "execution_count": 8,
   "metadata": {},
   "outputs": [
    {
     "name": "stdout",
     "output_type": "stream",
     "text": [
      "x + y : 13\n",
      "x = y : 7\n",
      "x * y : 30\n",
      "x / y : 3.3333333333333335\n",
      "x // y : 3\n",
      "x ** y : 1000\n",
      "x % y : 1\n"
     ]
    }
   ],
   "source": [
    "# Your code here\n",
    "x = 10\n",
    "y = 3\n",
    "\n",
    "i = x + y\n",
    "j = x - y\n",
    "k = x * y\n",
    "l = x / y\n",
    "m = x // y\n",
    "n = x ** y\n",
    "o = x % y\n",
    "print(f\"x + y :\",i)\n",
    "print(f\"x = y :\",j)\n",
    "print(f\"x * y :\",k)\n",
    "print(f\"x / y :\",l)\n",
    "print(f\"x // y :\",m)\n",
    "print(f\"x ** y :\",n)\n",
    "print(f\"x % y :\",o)\n"
   ]
  },
  {
   "cell_type": "markdown",
   "metadata": {},
   "source": [
    "**Question 12:** Write a Python program to demonstrate comparison operators: equal to, not equal to, greater than, less than."
   ]
  },
  {
   "cell_type": "code",
   "execution_count": 10,
   "metadata": {},
   "outputs": [
    {
     "name": "stdout",
     "output_type": "stream",
     "text": [
      "x == y : False\n",
      "x != y : True\n",
      "x <= y : False\n",
      "x >= y : True\n",
      "x < y: False\n",
      "x > y : True\n"
     ]
    }
   ],
   "source": [
    "# Your code here\n",
    "x = 10\n",
    "y = 3\n",
    "\n",
    "i = x == y\n",
    "j = x != y\n",
    "k = x <= y\n",
    "l = x >= y\n",
    "m = x < y\n",
    "n = x > y\n",
    "\n",
    "print(f\"x == y :\",i)\n",
    "print(f\"x != y :\",j)\n",
    "print(f\"x <= y :\",k)\n",
    "print(f\"x >= y :\",l)\n",
    "print(f\"x < y:\",m)\n",
    "print(f\"x > y :\",n)\n"
   ]
  },
  {
   "cell_type": "markdown",
   "metadata": {},
   "source": [
    "**Question 13:** Write a Python program to demonstrate logical operators: and, or, not."
   ]
  },
  {
   "cell_type": "code",
   "execution_count": null,
   "metadata": {},
   "outputs": [
    {
     "name": "stdout",
     "output_type": "stream",
     "text": [
      "You have bad credit history\n"
     ]
    }
   ],
   "source": [
    "# Write a Python program to check if a person is eligible for a loan based on these conditions:\n",
    "# Age must be between 21 and 60 (inclusive).\n",
    "# The person must have a job OR business.\n",
    "# The person must not have a bad credit history.\n",
    "\n",
    "age = int(input(\"Enter age to check if you're eligible for a loan: \"))\n",
    "source_of_income = input(\"Enter source of income (Job/Business): \").capitalize()\n",
    "credit_history = input(\"Do you have a bad credit history (y/n): \").lower()\n",
    "bad_credit_history = True if credit_history == \"y\" else False # a ternary conditional expression, syntax: (value_if_true) if condition else (value_if_false). \n",
    "\n",
    "\n",
    "if age >= 21 and age <= 60:\n",
    "    if source_of_income == \"Job\" or source_of_income == \"Business\":\n",
    "        if not bad_credit_history :\n",
    "            print(\"You are Eligible for loan\")\n",
    "        else:\n",
    "            print(\"You have bad credit history.Hence, can not apply for loan.\")  \n",
    "    else:\n",
    "        print(\"You do not have stable source of income.Hence, can not apply for loan\")\n",
    "else:\n",
    "    print(\"Your age is not qualified for a loan\")        \n",
    "\n",
    "\n",
    "# if someone put no and bad_credit_history becomes false, then not bad_credit_history becomes true\n",
    "# and when its true then it goes inside if statement.\n",
    "# condition ? value_if_true : value_if_false in java,c,dart etc\n"
   ]
  },
  {
   "cell_type": "markdown",
   "metadata": {},
   "source": [
    "**Question 14:** Write a Python program to calculate the square of a number."
   ]
  },
  {
   "cell_type": "code",
   "execution_count": 15,
   "metadata": {},
   "outputs": [
    {
     "name": "stdout",
     "output_type": "stream",
     "text": [
      "The square of 3 is 9\n"
     ]
    }
   ],
   "source": [
    "# Your code here\n",
    "def square(n):\n",
    "    return n*n\n",
    "sqr = int(input(\"Enter a number: \"))\n",
    "squared = square(sqr)\n",
    "print(f\"The square of {sqr} is {squared}\")"
   ]
  },
  {
   "cell_type": "markdown",
   "metadata": {},
   "source": [
    "**Question 15:** Write a Python program to check if a number is even or odd."
   ]
  },
  {
   "cell_type": "code",
   "execution_count": 17,
   "metadata": {},
   "outputs": [
    {
     "name": "stdout",
     "output_type": "stream",
     "text": [
      "5 is an odd number\n"
     ]
    }
   ],
   "source": [
    "# Your code here\n",
    "num = int(input(\"Enter a number: \"))\n",
    "if num % 2 == 0:\n",
    "    print(f\"{num} is an even number\")\n",
    "else:\n",
    "    print(f\"{num} is an odd number\")"
   ]
  },
  {
   "cell_type": "markdown",
   "metadata": {},
   "source": [
    "**Question 16:** Write a Python program to find the sum of the first n natural numbers."
   ]
  },
  {
   "cell_type": "code",
   "execution_count": 18,
   "metadata": {},
   "outputs": [
    {
     "name": "stdout",
     "output_type": "stream",
     "text": [
      "The sum of first 5 natural number is 15.\n"
     ]
    }
   ],
   "source": [
    "# Your code here\n",
    "total = 0\n",
    "num = int(input(\"Enter a number: \"))\n",
    "i = 1\n",
    "while i <= num:\n",
    "    total += i\n",
    "    i = i +1\n",
    "print(f\"The sum of first {num} natural number is {total}.\")    \n",
    "    "
   ]
  },
  {
   "cell_type": "markdown",
   "metadata": {},
   "source": [
    "**Question 17:** Write a Python program to check if a year is a leap year."
   ]
  },
  {
   "cell_type": "code",
   "execution_count": null,
   "metadata": {},
   "outputs": [],
   "source": [
    "# Your code here\n",
    "\n",
    "# ✅ Leap year rule:\n",
    "# A year is a leap year if:\n",
    "# (It is divisible by 4 and not divisible by 100) OR (it is divisible by 400) then its a leap year.\n",
    "# If a year is divisible by 4, 100, and 400 at the same time, then it is definitely a leap year ✅.\n",
    "# If a year is divisible by 4 but not by 100,then it is automatically a leap year ✅.\n",
    "\n",
    "year = int(input(\"Enter year: \"))\n",
    "if ( year % 400 == 0) or (year % 4 == 0 and year % 100 !=0) :\n",
    "     print(\"It is a leap year\")\n",
    "else:  \n",
    "   print(\"It is not a leap year\")     "
   ]
  },
  {
   "cell_type": "markdown",
   "metadata": {},
   "source": [
    "**Question 18:** Write a Python program to reverse a string."
   ]
  },
  {
   "cell_type": "code",
   "execution_count": 19,
   "metadata": {},
   "outputs": [
    {
     "name": "stdout",
     "output_type": "stream",
     "text": [
      "remu olleh\n"
     ]
    }
   ],
   "source": [
    "# Your code here\n",
    "def string_rev(s):\n",
    "    return s[::-1]\n",
    "\n",
    "string = input(\"Hey! enter a sentence: \")\n",
    "reversed_string = string_rev(string)\n",
    "print(reversed_string)\n"
   ]
  },
  {
   "cell_type": "markdown",
   "metadata": {},
   "source": [
    "**Question 19:** Write a Python program to check if a string is a palindrome."
   ]
  },
  {
   "cell_type": "code",
   "execution_count": null,
   "metadata": {},
   "outputs": [
    {
     "name": "stdout",
     "output_type": "stream",
     "text": [
      "It is not a palindrome\n"
     ]
    }
   ],
   "source": [
    "# Your code here\n",
    "\n",
    "def check_palindrome(s):\n",
    "    return s == s[::-1] # comparison return boolean value\n",
    "         \n",
    "\n",
    "string = input(\"Hey! enter a sentence or a word: \").strip()\n",
    "palindrome = check_palindrome(string) # boolean value stored here\n",
    "if palindrome:\n",
    "    print(\"It is a palindrome\")\n",
    "else:    \n",
    "    print(\"It is not a palindrome\")\n"
   ]
  },
  {
   "cell_type": "markdown",
   "metadata": {},
   "source": [
    "**Question 20:** Write a Python program to sort a list of numbers in ascending order."
   ]
  },
  {
   "cell_type": "code",
   "execution_count": 2,
   "metadata": {},
   "outputs": [
    {
     "name": "stdout",
     "output_type": "stream",
     "text": [
      "[1, 2, 3, 4, 5, 6, 7, 8, 9, 10]\n"
     ]
    }
   ],
   "source": [
    "# Your code here\n",
    "lst = [6,3,4,2,7,1,9,8,10,5]\n",
    "\n",
    "n = len(lst)\n",
    "\n",
    "for i in range(n):#i is the pass number (how many times we’ve gone through the list).\n",
    "    for j in range(0,n-i-1):#j is the index of the element we’re comparing with the next one.\n",
    "        if lst[j] > lst[j + 1]:\n",
    "            (lst[j],lst[j + 1]) = (lst[j + 1],lst[j])\n",
    "\n",
    "print(lst)\n",
    "\n",
    "#n-i-1 means: each pass, we need one fewer comparison because the biggest number is already in place at the end.\n",
    "# (lst[j],lst[j + 1]) = (lst[j + 1],lst[j])\n",
    "# This is Python’s tuple unpacking trick.\n",
    "# It swaps the two elements without needing a temporary variable.\n",
    "# 🔹 Why it works\n",
    "# On the right-hand side we build a tuple (numbers[j+1], numbers[j]).\n",
    "# Then we assign it back to (numbers[j], numbers[j+1]).\n",
    "# So the values get swapped in one step."
   ]
  }
 ],
 "metadata": {
  "kernelspec": {
   "display_name": "Python 3",
   "language": "python",
   "name": "python3"
  },
  "language_info": {
   "codemirror_mode": {
    "name": "ipython",
    "version": 3
   },
   "file_extension": ".py",
   "mimetype": "text/x-python",
   "name": "python",
   "nbconvert_exporter": "python",
   "pygments_lexer": "ipython3",
   "version": "3.12.11"
  }
 },
 "nbformat": 4,
 "nbformat_minor": 4
}
